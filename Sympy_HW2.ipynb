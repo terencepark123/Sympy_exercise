{
 "metadata": {
  "language_info": {
   "codemirror_mode": {
    "name": "ipython",
    "version": 3
   },
   "file_extension": ".py",
   "mimetype": "text/x-python",
   "name": "python",
   "nbconvert_exporter": "python",
   "pygments_lexer": "ipython3",
   "version": "3.7.7-final"
  },
  "orig_nbformat": 2,
  "kernelspec": {
   "name": "python3",
   "display_name": "Python 3.7.7 64-bit ('deeplearning': conda)",
   "metadata": {
    "interpreter": {
     "hash": "3204e1ae5df78bbf005101dace15825dd77650469c97a81fae1298eb20fe914b"
    }
   }
  }
 },
 "nbformat": 4,
 "nbformat_minor": 2,
 "cells": [
  {
   "cell_type": "code",
   "execution_count": 3,
   "metadata": {},
   "outputs": [
    {
     "output_type": "execute_result",
     "data": {
      "text/plain": [
       "-oo"
      ],
      "text/latex": "$\\displaystyle -\\infty$"
     },
     "metadata": {},
     "execution_count": 3
    }
   ],
   "source": [
    "from sympy import *\n",
    "x = symbols('x') \n",
    "limit(1/x,x,0,'-')"
   ]
  },
  {
   "cell_type": "code",
   "execution_count": 4,
   "metadata": {},
   "outputs": [
    {
     "output_type": "execute_result",
     "data": {
      "text/plain": [
       "1 + x + x**2/2 + O(x**4)"
      ],
      "text/latex": "$\\displaystyle 1 + x + \\frac{x^{2}}{2} + O\\left(x^{4}\\right)$"
     },
     "metadata": {},
     "execution_count": 4
    }
   ],
   "source": [
    "expr = exp(sin(x))\n",
    "expr.series(x,0,4)"
   ]
  },
  {
   "cell_type": "code",
   "execution_count": 5,
   "metadata": {},
   "outputs": [
    {
     "output_type": "execute_result",
     "data": {
      "text/plain": [
       "O(x)"
      ],
      "text/latex": "$\\displaystyle O\\left(x\\right)$"
     },
     "metadata": {},
     "execution_count": 5
    }
   ],
   "source": [
    "x + x**3 + x**6 + O(x**4)\n",
    "x*O(1)\n"
   ]
  },
  {
   "cell_type": "code",
   "execution_count": 6,
   "metadata": {},
   "outputs": [
    {
     "output_type": "execute_result",
     "data": {
      "text/plain": [
       "x**2/2 + x + 1"
      ],
      "text/latex": "$\\displaystyle \\frac{x^{2}}{2} + x + 1$"
     },
     "metadata": {},
     "execution_count": 6
    }
   ],
   "source": [
    "expr.series(x,0,4).removeO()"
   ]
  },
  {
   "cell_type": "code",
   "execution_count": 9,
   "metadata": {},
   "outputs": [
    {
     "output_type": "execute_result",
     "data": {
      "text/plain": [
       "-5 + (x - 6)**2/2 + (x - 6)**3/6 + (x - 6)**4/24 + (x - 6)**5/120 + x + O((x - 6)**6, (x, 6))"
      ],
      "text/latex": "$\\displaystyle -5 + \\frac{\\left(x - 6\\right)^{2}}{2} + \\frac{\\left(x - 6\\right)^{3}}{6} + \\frac{\\left(x - 6\\right)^{4}}{24} + \\frac{\\left(x - 6\\right)^{5}}{120} + x + O\\left(\\left(x - 6\\right)^{6}; x\\rightarrow 6\\right)$"
     },
     "metadata": {},
     "execution_count": 9
    }
   ],
   "source": [
    "exp(x-6).series(x,x0=6)"
   ]
  },
  {
   "cell_type": "code",
   "execution_count": 11,
   "metadata": {},
   "outputs": [
    {
     "output_type": "execute_result",
     "data": {
      "text/plain": [
       "-f(x - 1/2)*g(x - 1/2) + f(x + 1/2)*g(x + 1/2)"
      ],
      "text/latex": "$\\displaystyle - f{\\left(x - \\frac{1}{2} \\right)} g{\\left(x - \\frac{1}{2} \\right)} + f{\\left(x + \\frac{1}{2} \\right)} g{\\left(x + \\frac{1}{2} \\right)}$"
     },
     "metadata": {},
     "execution_count": 11
    }
   ],
   "source": [
    "f,g = symbols('f g', cls=Function)\n",
    "differentiate_finite(f(x)*g(x))"
   ]
  },
  {
   "cell_type": "code",
   "execution_count": 12,
   "metadata": {},
   "outputs": [
    {
     "output_type": "execute_result",
     "data": {
      "text/plain": [
       "-f(x - 1/2) + f(x + 1/2)"
      ],
      "text/latex": "$\\displaystyle - f{\\left(x - \\frac{1}{2} \\right)} + f{\\left(x + \\frac{1}{2} \\right)}$"
     },
     "metadata": {},
     "execution_count": 12
    }
   ],
   "source": [
    "f = Function('f')\n",
    "dfdx = f(x).diff(x)\n",
    "dfdx.as_finite_difference()"
   ]
  },
  {
   "cell_type": "code",
   "execution_count": 13,
   "metadata": {},
   "outputs": [
    {
     "output_type": "execute_result",
     "data": {
      "text/plain": [
       "f(-3*h)/(5*h**2) - f(-h)/(3*h**2) + 2*f(2*h)/(15*h**2)"
      ],
      "text/latex": "$\\displaystyle \\frac{f{\\left(- 3 h \\right)}}{5 h^{2}} - \\frac{f{\\left(- h \\right)}}{3 h^{2}} + \\frac{2 f{\\left(2 h \\right)}}{15 h^{2}}$"
     },
     "metadata": {},
     "execution_count": 13
    }
   ],
   "source": [
    "f = Function('f')\n",
    "d2fdx2 = f(x).diff(x,2)\n",
    "h = symbols('h')\n",
    "d2fdx2.as_finite_difference([-3*h, -h, 2*h])"
   ]
  },
  {
   "cell_type": "code",
   "execution_count": 14,
   "metadata": {},
   "outputs": [
    {
     "output_type": "execute_result",
     "data": {
      "text/plain": [
       "[1/5, -1/3, 2/15]"
      ]
     },
     "metadata": {},
     "execution_count": 14
    }
   ],
   "source": [
    "finite_diff_weights(2,[-3,-1,2],0)[-1][-1]\n"
   ]
  },
  {
   "cell_type": "code",
   "execution_count": 15,
   "metadata": {},
   "outputs": [
    {
     "output_type": "execute_result",
     "data": {
      "text/plain": [
       "-3*a/20 - b/4 + 2*c/5"
      ],
      "text/latex": "$\\displaystyle - \\frac{3 a}{20} - \\frac{b}{4} + \\frac{2 c}{5}$"
     },
     "metadata": {},
     "execution_count": 15
    }
   ],
   "source": [
    "x_list = [-3,1,2]\n",
    "y_list = symbols('a b c')\n",
    "latex(apply_finite_diff(1,x_list,y_list,0))"
   ]
  },
  {
   "cell_type": "code",
   "execution_count": 18,
   "metadata": {},
   "outputs": [],
   "source": [
    "#####\n",
    "#####\n",
    "##### Solvers"
   ]
  },
  {
   "cell_type": "code",
   "execution_count": 4,
   "metadata": {},
   "outputs": [
    {
     "output_type": "execute_result",
     "data": {
      "text/plain": [
       "Eq(x, y)"
      ],
      "text/latex": "$\\displaystyle x = y$"
     },
     "metadata": {},
     "execution_count": 4
    }
   ],
   "source": [
    "from sympy import *\n",
    "x, y,z = symbols('x y z')\n",
    "Eq(x,y)"
   ]
  },
  {
   "cell_type": "code",
   "execution_count": 21,
   "metadata": {},
   "outputs": [
    {
     "output_type": "execute_result",
     "data": {
      "text/plain": [
       "FiniteSet(-1, 1)"
      ],
      "text/latex": "$\\displaystyle \\left\\{-1, 1\\right\\}$"
     },
     "metadata": {},
     "execution_count": 21
    }
   ],
   "source": [
    "solveset(Eq(x**2,1),x)"
   ]
  },
  {
   "cell_type": "code",
   "execution_count": 22,
   "metadata": {},
   "outputs": [
    {
     "output_type": "execute_result",
     "data": {
      "text/plain": [
       "FiniteSet(-1, 1)"
      ],
      "text/latex": "$\\displaystyle \\left\\{-1, 1\\right\\}$"
     },
     "metadata": {},
     "execution_count": 22
    }
   ],
   "source": [
    "solveset(Eq(x**2-1,0),x)"
   ]
  },
  {
   "cell_type": "code",
   "execution_count": 23,
   "metadata": {},
   "outputs": [
    {
     "output_type": "execute_result",
     "data": {
      "text/plain": [
       "FiniteSet(-1, 1)"
      ],
      "text/latex": "$\\displaystyle \\left\\{-1, 1\\right\\}$"
     },
     "metadata": {},
     "execution_count": 23
    }
   ],
   "source": [
    "solveset(x**2-1,x)\n"
   ]
  },
  {
   "cell_type": "code",
   "execution_count": 24,
   "metadata": {},
   "outputs": [
    {
     "output_type": "execute_result",
     "data": {
      "text/plain": [
       "FiniteSet(0, 1)"
      ],
      "text/latex": "$\\displaystyle \\left\\{0, 1\\right\\}$"
     },
     "metadata": {},
     "execution_count": 24
    }
   ],
   "source": [
    "solveset(x**2-x, x)"
   ]
  },
  {
   "cell_type": "code",
   "execution_count": 28,
   "metadata": {},
   "outputs": [
    {
     "output_type": "execute_result",
     "data": {
      "text/plain": [
       "Reals"
      ],
      "text/latex": "$\\displaystyle \\mathbb{R}$"
     },
     "metadata": {},
     "execution_count": 28
    }
   ],
   "source": [
    "solveset(x-x,x, domain=S.Reals)\n"
   ]
  },
  {
   "cell_type": "code",
   "execution_count": 26,
   "metadata": {},
   "outputs": [
    {
     "output_type": "execute_result",
     "data": {
      "text/plain": [
       "ImageSet(Lambda(_n, 2*_n*pi + pi/2), Integers)"
      ],
      "text/latex": "$\\displaystyle \\left\\{2 n \\pi + \\frac{\\pi}{2}\\; |\\; n \\in \\mathbb{Z}\\right\\}$"
     },
     "metadata": {},
     "execution_count": 26
    }
   ],
   "source": [
    "solveset(sin(x)-1,x, domain=S.Reals)\n"
   ]
  },
  {
   "cell_type": "code",
   "execution_count": 29,
   "metadata": {},
   "outputs": [
    {
     "output_type": "execute_result",
     "data": {
      "text/plain": [
       "EmptySet"
      ],
      "text/latex": "$\\displaystyle \\emptyset$"
     },
     "metadata": {},
     "execution_count": 29
    }
   ],
   "source": [
    "solveset(exp(x),x)"
   ]
  },
  {
   "cell_type": "code",
   "execution_count": 30,
   "metadata": {},
   "outputs": [
    {
     "output_type": "execute_result",
     "data": {
      "text/plain": [
       "ConditionSet(x, Eq(-x + cos(x), 0), Complexes)"
      ],
      "text/latex": "$\\displaystyle \\left\\{x \\mid x \\in \\mathbb{C} \\wedge - x + \\cos{\\left(x \\right)} = 0 \\right\\}$"
     },
     "metadata": {},
     "execution_count": 30
    }
   ],
   "source": [
    "solveset(cos(x)-x,x)"
   ]
  },
  {
   "cell_type": "code",
   "execution_count": 5,
   "metadata": {},
   "outputs": [
    {
     "output_type": "execute_result",
     "data": {
      "text/plain": [
       "FiniteSet((-y - 1, y, 2))"
      ],
      "text/latex": "$\\displaystyle \\left\\{\\left( - y - 1, \\  y, \\  2\\right)\\right\\}$"
     },
     "metadata": {},
     "execution_count": 5
    }
   ],
   "source": [
    "linsolve([x+y+z-1, x+y+2*z -3],(x,y,z))"
   ]
  },
  {
   "cell_type": "code",
   "execution_count": 6,
   "metadata": {},
   "outputs": [
    {
     "output_type": "execute_result",
     "data": {
      "text/plain": [
       "FiniteSet((-y - 1, y, 2))"
      ],
      "text/latex": "$\\displaystyle \\left\\{\\left( - y - 1, \\  y, \\  2\\right)\\right\\}$"
     },
     "metadata": {},
     "execution_count": 6
    }
   ],
   "source": [
    "linsolve(Matrix(([1,1,1,1],[1,1,2,3])),(x,y,z))"
   ]
  },
  {
   "cell_type": "code",
   "execution_count": 11,
   "metadata": {},
   "outputs": [
    {
     "output_type": "stream",
     "name": "stdout",
     "text": [
      "(Matrix([\n[1, 1, 1],\n[1, 1, 2]]), Matrix([\n[1],\n[3]]))\n"
     ]
    },
    {
     "output_type": "execute_result",
     "data": {
      "text/plain": [
       "FiniteSet((-y - 1, y, 2))"
      ],
      "text/latex": "$\\displaystyle \\left\\{\\left( - y - 1, \\  y, \\  2\\right)\\right\\}$"
     },
     "metadata": {},
     "execution_count": 11
    }
   ],
   "source": [
    "M= Matrix(((1,1,1,1),(1,1,2,3)))\n",
    "system=A, b = M[:,:-1],M[:,-1]\n",
    "print(system)\n",
    "linsolve(system,x,y,z)"
   ]
  },
  {
   "cell_type": "code",
   "execution_count": 12,
   "metadata": {},
   "outputs": [
    {
     "output_type": "execute_result",
     "data": {
      "text/plain": [
       "FiniteSet((-1, -1), (0, 0))"
      ],
      "text/latex": "$\\displaystyle \\left\\{\\left( -1, \\  -1\\right), \\left( 0, \\  0\\right)\\right\\}$"
     },
     "metadata": {},
     "execution_count": 12
    }
   ],
   "source": [
    "a,b,c,d = symbols('a,b,c,d', real =True)\n",
    "nonlinsolve([a**2 + a, a-b],[a,b])"
   ]
  },
  {
   "cell_type": "code",
   "execution_count": 13,
   "metadata": {},
   "outputs": [
    {
     "output_type": "execute_result",
     "data": {
      "text/plain": [
       "FiniteSet((2, 1/2))"
      ],
      "text/latex": "$\\displaystyle \\left\\{\\left( 2, \\  \\frac{1}{2}\\right)\\right\\}$"
     },
     "metadata": {},
     "execution_count": 13
    }
   ],
   "source": [
    "nonlinsolve([x*y -1, x-2],x,y)"
   ]
  },
  {
   "cell_type": "code",
   "execution_count": 14,
   "metadata": {},
   "outputs": [
    {
     "output_type": "execute_result",
     "data": {
      "text/plain": [
       "FiniteSet((I, I), (-I, I), (I, -I), (-I, -I))"
      ],
      "text/latex": "$\\displaystyle \\left\\{\\left( - i, \\  - i\\right), \\left( - i, \\  i\\right), \\left( i, \\  - i\\right), \\left( i, \\  i\\right)\\right\\}$"
     },
     "metadata": {},
     "execution_count": 14
    }
   ],
   "source": [
    "nonlinsolve([x**2 +1, y**2 +1],[x,y])"
   ]
  },
  {
   "cell_type": "code",
   "execution_count": 15,
   "metadata": {},
   "outputs": [
    {
     "output_type": "execute_result",
     "data": {
      "text/plain": [
       "FiniteSet((-2, -1), (2, 1), (-sqrt(2)*I, sqrt(2)*I), (sqrt(2)*I, -sqrt(2)*I))"
      ],
      "text/latex": "$\\displaystyle \\left\\{\\left( -2, \\  -1\\right), \\left( 2, \\  1\\right), \\left( - \\sqrt{2} i, \\  \\sqrt{2} i\\right), \\left( \\sqrt{2} i, \\  - \\sqrt{2} i\\right)\\right\\}$"
     },
     "metadata": {},
     "execution_count": 15
    }
   ],
   "source": [
    "from sympy import sqrt\n",
    "system=[x**2 -2*y**2 -2,x*y-2]\n",
    "vars = [x,y]\n",
    "nonlinsolve(system,vars)"
   ]
  },
  {
   "cell_type": "code",
   "execution_count": 16,
   "metadata": {},
   "outputs": [
    {
     "output_type": "execute_result",
     "data": {
      "text/plain": [
       "FiniteSet((0, y))"
      ],
      "text/latex": "$\\displaystyle \\left\\{\\left( 0, \\  y\\right)\\right\\}$"
     },
     "metadata": {},
     "execution_count": 16
    }
   ],
   "source": [
    "nonlinsolve([x*y,x*y-x],[x,y])"
   ]
  },
  {
   "cell_type": "code",
   "execution_count": 17,
   "metadata": {},
   "outputs": [
    {
     "output_type": "execute_result",
     "data": {
      "text/plain": [
       "FiniteSet((0, 0), (-c, -c))"
      ],
      "text/latex": "$\\displaystyle \\left\\{\\left( 0, \\  0\\right), \\left( - c, \\  - c\\right)\\right\\}$"
     },
     "metadata": {},
     "execution_count": 17
    }
   ],
   "source": [
    "system = [a**2+a*c,a-b]\n",
    "nonlinsolve(system,[a,b])"
   ]
  },
  {
   "cell_type": "code",
   "execution_count": 18,
   "metadata": {},
   "outputs": [
    {
     "output_type": "execute_result",
     "data": {
      "text/plain": [
       "FiniteSet(0, 3)"
      ],
      "text/latex": "$\\displaystyle \\left\\{0, 3\\right\\}$"
     },
     "metadata": {},
     "execution_count": 18
    }
   ],
   "source": [
    "solveset(x**3-6*x**2+ 9*x,x)"
   ]
  },
  {
   "cell_type": "code",
   "execution_count": 19,
   "metadata": {},
   "outputs": [
    {
     "output_type": "execute_result",
     "data": {
      "text/plain": [
       "{3: 2, 0: 1}"
      ]
     },
     "metadata": {},
     "execution_count": 19
    }
   ],
   "source": [
    "roots(x**3-6*x**2 + 9*x,x)"
   ]
  },
  {
   "cell_type": "code",
   "execution_count": 20,
   "metadata": {},
   "outputs": [
    {
     "output_type": "execute_result",
     "data": {
      "text/plain": [
       "[LambertW(1)]"
      ]
     },
     "metadata": {},
     "execution_count": 20
    }
   ],
   "source": [
    "solve(x*exp(x)-1,x)"
   ]
  },
  {
   "cell_type": "code",
   "execution_count": 21,
   "metadata": {},
   "outputs": [],
   "source": [
    "f,g = symbols('f g',cls = Function)"
   ]
  },
  {
   "cell_type": "code",
   "execution_count": 22,
   "metadata": {},
   "outputs": [
    {
     "output_type": "execute_result",
     "data": {
      "text/plain": [
       "f(x)"
      ],
      "text/latex": "$\\displaystyle f{\\left(x \\right)}$"
     },
     "metadata": {},
     "execution_count": 22
    }
   ],
   "source": [
    "f(x)"
   ]
  },
  {
   "cell_type": "code",
   "execution_count": 23,
   "metadata": {},
   "outputs": [
    {
     "output_type": "execute_result",
     "data": {
      "text/plain": [
       "Derivative(f(x), x)"
      ],
      "text/latex": "$\\displaystyle \\frac{d}{d x} f{\\left(x \\right)}$"
     },
     "metadata": {},
     "execution_count": 23
    }
   ],
   "source": [
    "f(x).diff(x)"
   ]
  },
  {
   "cell_type": "code",
   "execution_count": 26,
   "metadata": {},
   "outputs": [
    {
     "output_type": "execute_result",
     "data": {
      "text/plain": [
       "Eq(f(x) - 2*Derivative(f(x), x) + Derivative(f(x), (x, 2)), sin(x))"
      ],
      "text/latex": "$\\displaystyle f{\\left(x \\right)} - 2 \\frac{d}{d x} f{\\left(x \\right)} + \\frac{d^{2}}{d x^{2}} f{\\left(x \\right)} = \\sin{\\left(x \\right)}$"
     },
     "metadata": {},
     "execution_count": 26
    }
   ],
   "source": [
    "diffeq = Eq(f(x).diff(x,x)-2*f(x).diff(x) + f(x), sin(x))\n",
    "diffeq"
   ]
  },
  {
   "cell_type": "code",
   "execution_count": 27,
   "metadata": {},
   "outputs": [
    {
     "output_type": "execute_result",
     "data": {
      "text/plain": [
       "Eq(f(x), (C1 + C2*x)*exp(x) + cos(x)/2)"
      ],
      "text/latex": "$\\displaystyle f{\\left(x \\right)} = \\left(C_{1} + C_{2} x\\right) e^{x} + \\frac{\\cos{\\left(x \\right)}}{2}$"
     },
     "metadata": {},
     "execution_count": 27
    }
   ],
   "source": [
    "dsolve(diffeq,f(x))"
   ]
  },
  {
   "cell_type": "code",
   "execution_count": 28,
   "metadata": {},
   "outputs": [
    {
     "output_type": "execute_result",
     "data": {
      "text/plain": [
       "Eq(x - f(x) - cos(f(x)), C1)"
      ],
      "text/latex": "$\\displaystyle x - f{\\left(x \\right)} - \\cos{\\left(f{\\left(x \\right)} \\right)} = C_{1}$"
     },
     "metadata": {},
     "execution_count": 28
    }
   ],
   "source": [
    "dsolve(f(x).diff(x)*(1-sin(f(x))) -1,f(x))"
   ]
  },
  {
   "cell_type": "code",
   "execution_count": 2,
   "metadata": {},
   "outputs": [],
   "source": [
    "###\n",
    "### Matrices\n",
    "from sympy import *\n",
    "init_printing(use_unicode=True)"
   ]
  },
  {
   "cell_type": "code",
   "execution_count": 3,
   "metadata": {},
   "outputs": [
    {
     "output_type": "stream",
     "name": "stderr",
     "text": [
      "C:\\Users\\valle\\.conda\\envs\\deeplearning\\lib\\site-packages\\numpy\\__init__.py:138: UserWarning: mkl-service package failed to import, therefore Intel(R) MKL initialization ensuring its correct out-of-the box operation under condition when Gnu OpenMP had already been loaded by Python process is not assured. Please install mkl-service package, see http://github.com/IntelPython/mkl-service\n  from . import _distributor_init\n"
     ]
    },
    {
     "output_type": "execute_result",
     "data": {
      "text/plain": [
       "⎡1  -1⎤\n",
       "⎢     ⎥\n",
       "⎢3  4 ⎥\n",
       "⎢     ⎥\n",
       "⎣0  2 ⎦"
      ],
      "text/latex": "$\\displaystyle \\left[\\begin{matrix}1 & -1\\\\3 & 4\\\\0 & 2\\end{matrix}\\right]$"
     },
     "metadata": {},
     "execution_count": 3
    }
   ],
   "source": [
    "Matrix([[1,-1],[3,4],[0,2]])"
   ]
  },
  {
   "cell_type": "code",
   "execution_count": 4,
   "metadata": {},
   "outputs": [
    {
     "output_type": "execute_result",
     "data": {
      "text/plain": [
       "⎡1⎤\n",
       "⎢ ⎥\n",
       "⎢2⎥\n",
       "⎢ ⎥\n",
       "⎣3⎦"
      ],
      "text/latex": "$\\displaystyle \\left[\\begin{matrix}1\\\\2\\\\3\\end{matrix}\\right]$"
     },
     "metadata": {},
     "execution_count": 4
    }
   ],
   "source": [
    "Matrix([1,2,3])"
   ]
  },
  {
   "cell_type": "code",
   "execution_count": 5,
   "metadata": {},
   "outputs": [
    {
     "output_type": "execute_result",
     "data": {
      "text/plain": [
       "⎡5⎤\n",
       "⎢ ⎥\n",
       "⎣3⎦"
      ],
      "text/latex": "$\\displaystyle \\left[\\begin{matrix}5\\\\3\\end{matrix}\\right]$"
     },
     "metadata": {},
     "execution_count": 5
    }
   ],
   "source": [
    "M = Matrix([[1,2,3],[3,2,1]])\n",
    "N = Matrix([0,1,1])\n",
    "M*N"
   ]
  },
  {
   "cell_type": "code",
   "execution_count": 31,
   "metadata": {},
   "outputs": [
    {
     "output_type": "execute_result",
     "data": {
      "text/plain": [
       "⎡1  2  3⎤\n",
       "⎢       ⎥\n",
       "⎣3  2  1⎦"
      ],
      "text/latex": "$\\displaystyle \\left[\\begin{matrix}1 & 2 & 3\\\\3 & 2 & 1\\end{matrix}\\right]$"
     },
     "metadata": {},
     "execution_count": 31
    }
   ],
   "source": [
    "M = Matrix([[1,2,3],[3,2,1]])\n",
    "M"
   ]
  },
  {
   "cell_type": "code",
   "execution_count": 32,
   "metadata": {},
   "outputs": [
    {
     "output_type": "execute_result",
     "data": {
      "text/plain": [
       "(2, 3)"
      ],
      "text/latex": "$\\displaystyle \\left( 2, \\  3\\right)$"
     },
     "metadata": {},
     "execution_count": 32
    }
   ],
   "source": [
    "M.shape"
   ]
  },
  {
   "cell_type": "code",
   "execution_count": 33,
   "metadata": {},
   "outputs": [
    {
     "output_type": "execute_result",
     "data": {
      "text/plain": [
       "[1  2  3]"
      ],
      "text/latex": "$\\displaystyle \\left[\\begin{matrix}1 & 2 & 3\\end{matrix}\\right]$"
     },
     "metadata": {},
     "execution_count": 33
    }
   ],
   "source": [
    "M.row(0)"
   ]
  },
  {
   "cell_type": "code",
   "execution_count": 34,
   "metadata": {},
   "outputs": [
    {
     "output_type": "execute_result",
     "data": {
      "text/plain": [
       "⎡3⎤\n",
       "⎢ ⎥\n",
       "⎣1⎦"
      ],
      "text/latex": "$\\displaystyle \\left[\\begin{matrix}3\\\\1\\end{matrix}\\right]$"
     },
     "metadata": {},
     "execution_count": 34
    }
   ],
   "source": [
    "M.col(-1)"
   ]
  },
  {
   "cell_type": "code",
   "execution_count": 35,
   "metadata": {},
   "outputs": [
    {
     "output_type": "execute_result",
     "data": {
      "text/plain": [
       "⎡2  3⎤\n",
       "⎢    ⎥\n",
       "⎣2  1⎦"
      ],
      "text/latex": "$\\displaystyle \\left[\\begin{matrix}2 & 3\\\\2 & 1\\end{matrix}\\right]$"
     },
     "metadata": {},
     "execution_count": 35
    }
   ],
   "source": [
    "M.col_del(0)\n",
    "M"
   ]
  },
  {
   "cell_type": "code",
   "execution_count": 36,
   "metadata": {},
   "outputs": [
    {
     "output_type": "execute_result",
     "data": {
      "text/plain": [
       "[2  3]"
      ],
      "text/latex": "$\\displaystyle \\left[\\begin{matrix}2 & 3\\end{matrix}\\right]$"
     },
     "metadata": {},
     "execution_count": 36
    }
   ],
   "source": [
    "M.row_del(1)\n",
    "M"
   ]
  },
  {
   "cell_type": "code",
   "execution_count": 37,
   "metadata": {},
   "outputs": [
    {
     "output_type": "execute_result",
     "data": {
      "text/plain": [
       "[2  3]"
      ],
      "text/latex": "$\\displaystyle \\left[\\begin{matrix}2 & 3\\end{matrix}\\right]$"
     },
     "metadata": {},
     "execution_count": 37
    }
   ],
   "source": [
    "M"
   ]
  },
  {
   "cell_type": "code",
   "execution_count": 38,
   "metadata": {},
   "outputs": [
    {
     "output_type": "execute_result",
     "data": {
      "text/plain": [
       "⎡2  3⎤\n",
       "⎢    ⎥\n",
       "⎣0  4⎦"
      ],
      "text/latex": "$\\displaystyle \\left[\\begin{matrix}2 & 3\\\\0 & 4\\end{matrix}\\right]$"
     },
     "metadata": {},
     "execution_count": 38
    }
   ],
   "source": [
    "M = M.row_insert(1,Matrix([[0,4]]))\n",
    "M"
   ]
  },
  {
   "cell_type": "code",
   "execution_count": 39,
   "metadata": {},
   "outputs": [
    {
     "output_type": "execute_result",
     "data": {
      "text/plain": [
       "⎡1   2  3⎤\n",
       "⎢        ⎥\n",
       "⎣-2  0  4⎦"
      ],
      "text/latex": "$\\displaystyle \\left[\\begin{matrix}1 & 2 & 3\\\\-2 & 0 & 4\\end{matrix}\\right]$"
     },
     "metadata": {},
     "execution_count": 39
    }
   ],
   "source": [
    "M = M.col_insert(0,Matrix([1,-2]))\n",
    "M"
   ]
  },
  {
   "cell_type": "code",
   "execution_count": 40,
   "metadata": {},
   "outputs": [
    {
     "output_type": "execute_result",
     "data": {
      "text/plain": [
       "⎡1   6 ⎤\n",
       "⎢      ⎥\n",
       "⎣-2  10⎦"
      ],
      "text/latex": "$\\displaystyle \\left[\\begin{matrix}1 & 6\\\\-2 & 10\\end{matrix}\\right]$"
     },
     "metadata": {},
     "execution_count": 40
    }
   ],
   "source": [
    "M =Matrix([[1,3],[-2,3]])\n",
    "N =Matrix([[0,3],[0,7]])\n",
    "M + N"
   ]
  },
  {
   "cell_type": "code",
   "execution_count": 41,
   "metadata": {},
   "outputs": [
    {
     "output_type": "execute_result",
     "data": {
      "text/plain": [
       "⎡0  24⎤\n",
       "⎢     ⎥\n",
       "⎣0  15⎦"
      ],
      "text/latex": "$\\displaystyle \\left[\\begin{matrix}0 & 24\\\\0 & 15\\end{matrix}\\right]$"
     },
     "metadata": {},
     "execution_count": 41
    }
   ],
   "source": [
    "M*N"
   ]
  },
  {
   "cell_type": "code",
   "execution_count": 42,
   "metadata": {},
   "outputs": [
    {
     "output_type": "execute_result",
     "data": {
      "text/plain": [
       "⎡3   9⎤\n",
       "⎢     ⎥\n",
       "⎣-6  9⎦"
      ],
      "text/latex": "$\\displaystyle \\left[\\begin{matrix}3 & 9\\\\-6 & 9\\end{matrix}\\right]$"
     },
     "metadata": {},
     "execution_count": 42
    }
   ],
   "source": [
    "3*M"
   ]
  },
  {
   "cell_type": "code",
   "execution_count": 43,
   "metadata": {},
   "outputs": [
    {
     "output_type": "execute_result",
     "data": {
      "text/plain": [
       "⎡-5  12⎤\n",
       "⎢      ⎥\n",
       "⎣-8  3 ⎦"
      ],
      "text/latex": "$\\displaystyle \\left[\\begin{matrix}-5 & 12\\\\-8 & 3\\end{matrix}\\right]$"
     },
     "metadata": {},
     "execution_count": 43
    }
   ],
   "source": [
    "M**2"
   ]
  },
  {
   "cell_type": "code",
   "execution_count": 44,
   "metadata": {},
   "outputs": [
    {
     "output_type": "execute_result",
     "data": {
      "text/plain": [
       "⎡1/3  -1/3⎤\n",
       "⎢         ⎥\n",
       "⎣2/9  1/9 ⎦"
      ],
      "text/latex": "$\\displaystyle \\left[\\begin{matrix}\\frac{1}{3} & - \\frac{1}{3}\\\\\\frac{2}{9} & \\frac{1}{9}\\end{matrix}\\right]$"
     },
     "metadata": {},
     "execution_count": 44
    }
   ],
   "source": [
    "M**-1"
   ]
  },
  {
   "cell_type": "code",
   "execution_count": 45,
   "metadata": {},
   "outputs": [
    {
     "output_type": "error",
     "ename": "NonInvertibleMatrixError",
     "evalue": "Matrix det == 0; not invertible.",
     "traceback": [
      "\u001b[1;31m---------------------------------------------------------------------------\u001b[0m",
      "\u001b[1;31mNonInvertibleMatrixError\u001b[0m                  Traceback (most recent call last)",
      "\u001b[1;32m<ipython-input-45-dd3897d705e0>\u001b[0m in \u001b[0;36m<module>\u001b[1;34m\u001b[0m\n\u001b[1;32m----> 1\u001b[1;33m \u001b[0mN\u001b[0m\u001b[1;33m**\u001b[0m\u001b[1;33m-\u001b[0m\u001b[1;36m1\u001b[0m\u001b[1;33m\u001b[0m\u001b[1;33m\u001b[0m\u001b[0m\n\u001b[0m",
      "\u001b[1;32m~\\.conda\\envs\\deeplearning\\lib\\site-packages\\sympy\\core\\decorators.py\u001b[0m in \u001b[0;36mbinary_op_wrapper\u001b[1;34m(self, other)\u001b[0m\n\u001b[0;32m    135\u001b[0m                     \u001b[1;32mif\u001b[0m \u001b[0mf\u001b[0m \u001b[1;32mis\u001b[0m \u001b[1;32mnot\u001b[0m \u001b[1;32mNone\u001b[0m\u001b[1;33m:\u001b[0m\u001b[1;33m\u001b[0m\u001b[1;33m\u001b[0m\u001b[0m\n\u001b[0;32m    136\u001b[0m                         \u001b[1;32mreturn\u001b[0m \u001b[0mf\u001b[0m\u001b[1;33m(\u001b[0m\u001b[0mself\u001b[0m\u001b[1;33m)\u001b[0m\u001b[1;33m\u001b[0m\u001b[1;33m\u001b[0m\u001b[0m\n\u001b[1;32m--> 137\u001b[1;33m             \u001b[1;32mreturn\u001b[0m \u001b[0mfunc\u001b[0m\u001b[1;33m(\u001b[0m\u001b[0mself\u001b[0m\u001b[1;33m,\u001b[0m \u001b[0mother\u001b[0m\u001b[1;33m)\u001b[0m\u001b[1;33m\u001b[0m\u001b[1;33m\u001b[0m\u001b[0m\n\u001b[0m\u001b[0;32m    138\u001b[0m         \u001b[1;32mreturn\u001b[0m \u001b[0mbinary_op_wrapper\u001b[0m\u001b[1;33m\u001b[0m\u001b[1;33m\u001b[0m\u001b[0m\n\u001b[0;32m    139\u001b[0m     \u001b[1;32mreturn\u001b[0m \u001b[0mpriority_decorator\u001b[0m\u001b[1;33m\u001b[0m\u001b[1;33m\u001b[0m\u001b[0m\n",
      "\u001b[1;32m~\\.conda\\envs\\deeplearning\\lib\\site-packages\\sympy\\matrices\\common.py\u001b[0m in \u001b[0;36m__pow__\u001b[1;34m(self, exp)\u001b[0m\n\u001b[0;32m   2683\u001b[0m         \u001b[1;34m\"\"\"Return self**exp a scalar or symbol.\"\"\"\u001b[0m\u001b[1;33m\u001b[0m\u001b[1;33m\u001b[0m\u001b[0m\n\u001b[0;32m   2684\u001b[0m \u001b[1;33m\u001b[0m\u001b[0m\n\u001b[1;32m-> 2685\u001b[1;33m         \u001b[1;32mreturn\u001b[0m \u001b[0mself\u001b[0m\u001b[1;33m.\u001b[0m\u001b[0mpow\u001b[0m\u001b[1;33m(\u001b[0m\u001b[0mexp\u001b[0m\u001b[1;33m)\u001b[0m\u001b[1;33m\u001b[0m\u001b[1;33m\u001b[0m\u001b[0m\n\u001b[0m\u001b[0;32m   2686\u001b[0m \u001b[1;33m\u001b[0m\u001b[0m\n\u001b[0;32m   2687\u001b[0m \u001b[1;33m\u001b[0m\u001b[0m\n",
      "\u001b[1;32m~\\.conda\\envs\\deeplearning\\lib\\site-packages\\sympy\\matrices\\common.py\u001b[0m in \u001b[0;36mpow\u001b[1;34m(self, exp, method)\u001b[0m\n\u001b[0;32m   2727\u001b[0m             \u001b[1;32mif\u001b[0m \u001b[0mexp\u001b[0m \u001b[1;33m<\u001b[0m \u001b[1;36m0\u001b[0m\u001b[1;33m:\u001b[0m\u001b[1;33m\u001b[0m\u001b[1;33m\u001b[0m\u001b[0m\n\u001b[0;32m   2728\u001b[0m                 \u001b[0mexp\u001b[0m \u001b[1;33m=\u001b[0m \u001b[1;33m-\u001b[0m\u001b[0mexp\u001b[0m\u001b[1;33m\u001b[0m\u001b[1;33m\u001b[0m\u001b[0m\n\u001b[1;32m-> 2729\u001b[1;33m                 \u001b[0ma\u001b[0m \u001b[1;33m=\u001b[0m \u001b[0ma\u001b[0m\u001b[1;33m.\u001b[0m\u001b[0minv\u001b[0m\u001b[1;33m(\u001b[0m\u001b[1;33m)\u001b[0m\u001b[1;33m\u001b[0m\u001b[1;33m\u001b[0m\u001b[0m\n\u001b[0m\u001b[0;32m   2730\u001b[0m         \u001b[1;31m# When certain conditions are met,\u001b[0m\u001b[1;33m\u001b[0m\u001b[1;33m\u001b[0m\u001b[1;33m\u001b[0m\u001b[0m\n\u001b[0;32m   2731\u001b[0m         \u001b[1;31m# Jordan block algorithm is faster than\u001b[0m\u001b[1;33m\u001b[0m\u001b[1;33m\u001b[0m\u001b[1;33m\u001b[0m\u001b[0m\n",
      "\u001b[1;32m~\\.conda\\envs\\deeplearning\\lib\\site-packages\\sympy\\matrices\\matrices.py\u001b[0m in \u001b[0;36minv\u001b[1;34m(self, method, iszerofunc, try_block_diag)\u001b[0m\n\u001b[0;32m   2158\u001b[0m     \u001b[1;32mdef\u001b[0m \u001b[0minv\u001b[0m\u001b[1;33m(\u001b[0m\u001b[0mself\u001b[0m\u001b[1;33m,\u001b[0m \u001b[0mmethod\u001b[0m\u001b[1;33m=\u001b[0m\u001b[1;32mNone\u001b[0m\u001b[1;33m,\u001b[0m \u001b[0miszerofunc\u001b[0m\u001b[1;33m=\u001b[0m\u001b[0m_iszero\u001b[0m\u001b[1;33m,\u001b[0m \u001b[0mtry_block_diag\u001b[0m\u001b[1;33m=\u001b[0m\u001b[1;32mFalse\u001b[0m\u001b[1;33m)\u001b[0m\u001b[1;33m:\u001b[0m\u001b[1;33m\u001b[0m\u001b[1;33m\u001b[0m\u001b[0m\n\u001b[0;32m   2159\u001b[0m         return _inv(self, method=method, iszerofunc=iszerofunc,\n\u001b[1;32m-> 2160\u001b[1;33m                 try_block_diag=try_block_diag)\n\u001b[0m\u001b[0;32m   2161\u001b[0m \u001b[1;33m\u001b[0m\u001b[0m\n\u001b[0;32m   2162\u001b[0m     \u001b[1;32mdef\u001b[0m \u001b[0mconnected_components\u001b[0m\u001b[1;33m(\u001b[0m\u001b[0mself\u001b[0m\u001b[1;33m)\u001b[0m\u001b[1;33m:\u001b[0m\u001b[1;33m\u001b[0m\u001b[1;33m\u001b[0m\u001b[0m\n",
      "\u001b[1;32m~\\.conda\\envs\\deeplearning\\lib\\site-packages\\sympy\\matrices\\inverse.py\u001b[0m in \u001b[0;36m_inv\u001b[1;34m(M, method, iszerofunc, try_block_diag)\u001b[0m\n\u001b[0;32m    457\u001b[0m \u001b[1;33m\u001b[0m\u001b[0m\n\u001b[0;32m    458\u001b[0m     \u001b[1;32mif\u001b[0m \u001b[0mmethod\u001b[0m \u001b[1;33m==\u001b[0m \u001b[1;34m\"GE\"\u001b[0m\u001b[1;33m:\u001b[0m\u001b[1;33m\u001b[0m\u001b[1;33m\u001b[0m\u001b[0m\n\u001b[1;32m--> 459\u001b[1;33m         \u001b[0mrv\u001b[0m \u001b[1;33m=\u001b[0m \u001b[0mM\u001b[0m\u001b[1;33m.\u001b[0m\u001b[0minverse_GE\u001b[0m\u001b[1;33m(\u001b[0m\u001b[0miszerofunc\u001b[0m\u001b[1;33m=\u001b[0m\u001b[0miszerofunc\u001b[0m\u001b[1;33m)\u001b[0m\u001b[1;33m\u001b[0m\u001b[1;33m\u001b[0m\u001b[0m\n\u001b[0m\u001b[0;32m    460\u001b[0m     \u001b[1;32melif\u001b[0m \u001b[0mmethod\u001b[0m \u001b[1;33m==\u001b[0m \u001b[1;34m\"LU\"\u001b[0m\u001b[1;33m:\u001b[0m\u001b[1;33m\u001b[0m\u001b[1;33m\u001b[0m\u001b[0m\n\u001b[0;32m    461\u001b[0m         \u001b[0mrv\u001b[0m \u001b[1;33m=\u001b[0m \u001b[0mM\u001b[0m\u001b[1;33m.\u001b[0m\u001b[0minverse_LU\u001b[0m\u001b[1;33m(\u001b[0m\u001b[0miszerofunc\u001b[0m\u001b[1;33m=\u001b[0m\u001b[0miszerofunc\u001b[0m\u001b[1;33m)\u001b[0m\u001b[1;33m\u001b[0m\u001b[1;33m\u001b[0m\u001b[0m\n",
      "\u001b[1;32m~\\.conda\\envs\\deeplearning\\lib\\site-packages\\sympy\\matrices\\matrices.py\u001b[0m in \u001b[0;36minverse_GE\u001b[1;34m(self, iszerofunc)\u001b[0m\n\u001b[0;32m   2142\u001b[0m \u001b[1;33m\u001b[0m\u001b[0m\n\u001b[0;32m   2143\u001b[0m     \u001b[1;32mdef\u001b[0m \u001b[0minverse_GE\u001b[0m\u001b[1;33m(\u001b[0m\u001b[0mself\u001b[0m\u001b[1;33m,\u001b[0m \u001b[0miszerofunc\u001b[0m\u001b[1;33m=\u001b[0m\u001b[0m_iszero\u001b[0m\u001b[1;33m)\u001b[0m\u001b[1;33m:\u001b[0m\u001b[1;33m\u001b[0m\u001b[1;33m\u001b[0m\u001b[0m\n\u001b[1;32m-> 2144\u001b[1;33m         \u001b[1;32mreturn\u001b[0m \u001b[0m_inv_GE\u001b[0m\u001b[1;33m(\u001b[0m\u001b[0mself\u001b[0m\u001b[1;33m,\u001b[0m \u001b[0miszerofunc\u001b[0m\u001b[1;33m=\u001b[0m\u001b[0miszerofunc\u001b[0m\u001b[1;33m)\u001b[0m\u001b[1;33m\u001b[0m\u001b[1;33m\u001b[0m\u001b[0m\n\u001b[0m\u001b[0;32m   2145\u001b[0m \u001b[1;33m\u001b[0m\u001b[0m\n\u001b[0;32m   2146\u001b[0m     \u001b[1;32mdef\u001b[0m \u001b[0minverse_LU\u001b[0m\u001b[1;33m(\u001b[0m\u001b[0mself\u001b[0m\u001b[1;33m,\u001b[0m \u001b[0miszerofunc\u001b[0m\u001b[1;33m=\u001b[0m\u001b[0m_iszero\u001b[0m\u001b[1;33m)\u001b[0m\u001b[1;33m:\u001b[0m\u001b[1;33m\u001b[0m\u001b[1;33m\u001b[0m\u001b[0m\n",
      "\u001b[1;32m~\\.conda\\envs\\deeplearning\\lib\\site-packages\\sympy\\matrices\\inverse.py\u001b[0m in \u001b[0;36m_inv_GE\u001b[1;34m(M, iszerofunc)\u001b[0m\n\u001b[0;32m    243\u001b[0m \u001b[1;33m\u001b[0m\u001b[0m\n\u001b[0;32m    244\u001b[0m     \u001b[1;32mif\u001b[0m \u001b[0many\u001b[0m\u001b[1;33m(\u001b[0m\u001b[0miszerofunc\u001b[0m\u001b[1;33m(\u001b[0m\u001b[0mred\u001b[0m\u001b[1;33m[\u001b[0m\u001b[0mj\u001b[0m\u001b[1;33m,\u001b[0m \u001b[0mj\u001b[0m\u001b[1;33m]\u001b[0m\u001b[1;33m)\u001b[0m \u001b[1;32mfor\u001b[0m \u001b[0mj\u001b[0m \u001b[1;32min\u001b[0m \u001b[0mrange\u001b[0m\u001b[1;33m(\u001b[0m\u001b[0mred\u001b[0m\u001b[1;33m.\u001b[0m\u001b[0mrows\u001b[0m\u001b[1;33m)\u001b[0m\u001b[1;33m)\u001b[0m\u001b[1;33m:\u001b[0m\u001b[1;33m\u001b[0m\u001b[1;33m\u001b[0m\u001b[0m\n\u001b[1;32m--> 245\u001b[1;33m         \u001b[1;32mraise\u001b[0m \u001b[0mNonInvertibleMatrixError\u001b[0m\u001b[1;33m(\u001b[0m\u001b[1;34m\"Matrix det == 0; not invertible.\"\u001b[0m\u001b[1;33m)\u001b[0m\u001b[1;33m\u001b[0m\u001b[1;33m\u001b[0m\u001b[0m\n\u001b[0m\u001b[0;32m    246\u001b[0m \u001b[1;33m\u001b[0m\u001b[0m\n\u001b[0;32m    247\u001b[0m     \u001b[1;32mreturn\u001b[0m \u001b[0mM\u001b[0m\u001b[1;33m.\u001b[0m\u001b[0m_new\u001b[0m\u001b[1;33m(\u001b[0m\u001b[0mred\u001b[0m\u001b[1;33m[\u001b[0m\u001b[1;33m:\u001b[0m\u001b[1;33m,\u001b[0m \u001b[0mbig\u001b[0m\u001b[1;33m.\u001b[0m\u001b[0mrows\u001b[0m\u001b[1;33m:\u001b[0m\u001b[1;33m]\u001b[0m\u001b[1;33m)\u001b[0m\u001b[1;33m\u001b[0m\u001b[1;33m\u001b[0m\u001b[0m\n",
      "\u001b[1;31mNonInvertibleMatrixError\u001b[0m: Matrix det == 0; not invertible."
     ]
    }
   ],
   "source": [
    "N**-1"
   ]
  },
  {
   "cell_type": "code",
   "execution_count": 46,
   "metadata": {},
   "outputs": [
    {
     "output_type": "execute_result",
     "data": {
      "text/plain": [
       "⎡1  -2⎤\n",
       "⎢     ⎥\n",
       "⎣3  3 ⎦"
      ],
      "text/latex": "$\\displaystyle \\left[\\begin{matrix}1 & -2\\\\3 & 3\\end{matrix}\\right]$"
     },
     "metadata": {},
     "execution_count": 46
    }
   ],
   "source": [
    "M.T"
   ]
  },
  {
   "cell_type": "code",
   "execution_count": 47,
   "metadata": {},
   "outputs": [
    {
     "output_type": "execute_result",
     "data": {
      "text/plain": [
       "⎡1  0  0⎤\n",
       "⎢       ⎥\n",
       "⎢0  1  0⎥\n",
       "⎢       ⎥\n",
       "⎣0  0  1⎦"
      ],
      "text/latex": "$\\displaystyle \\left[\\begin{matrix}1 & 0 & 0\\\\0 & 1 & 0\\\\0 & 0 & 1\\end{matrix}\\right]$"
     },
     "metadata": {},
     "execution_count": 47
    }
   ],
   "source": [
    "eye(3)"
   ]
  },
  {
   "cell_type": "code",
   "execution_count": 48,
   "metadata": {},
   "outputs": [
    {
     "output_type": "execute_result",
     "data": {
      "text/plain": [
       "⎡1  0  0  0⎤\n",
       "⎢          ⎥\n",
       "⎢0  1  0  0⎥\n",
       "⎢          ⎥\n",
       "⎢0  0  1  0⎥\n",
       "⎢          ⎥\n",
       "⎣0  0  0  1⎦"
      ],
      "text/latex": "$\\displaystyle \\left[\\begin{matrix}1 & 0 & 0 & 0\\\\0 & 1 & 0 & 0\\\\0 & 0 & 1 & 0\\\\0 & 0 & 0 & 1\\end{matrix}\\right]$"
     },
     "metadata": {},
     "execution_count": 48
    }
   ],
   "source": [
    "eye(4)"
   ]
  },
  {
   "cell_type": "code",
   "execution_count": 49,
   "metadata": {},
   "outputs": [
    {
     "output_type": "execute_result",
     "data": {
      "text/plain": [
       "⎡0  0  0⎤\n",
       "⎢       ⎥\n",
       "⎣0  0  0⎦"
      ],
      "text/latex": "$\\displaystyle \\left[\\begin{matrix}0 & 0 & 0\\\\0 & 0 & 0\\end{matrix}\\right]$"
     },
     "metadata": {},
     "execution_count": 49
    }
   ],
   "source": [
    "zeros(2,3)"
   ]
  },
  {
   "cell_type": "code",
   "execution_count": 50,
   "metadata": {},
   "outputs": [
    {
     "output_type": "execute_result",
     "data": {
      "text/plain": [
       "⎡1  1⎤\n",
       "⎢    ⎥\n",
       "⎢1  1⎥\n",
       "⎢    ⎥\n",
       "⎣1  1⎦"
      ],
      "text/latex": "$\\displaystyle \\left[\\begin{matrix}1 & 1\\\\1 & 1\\\\1 & 1\\end{matrix}\\right]$"
     },
     "metadata": {},
     "execution_count": 50
    }
   ],
   "source": [
    "ones(3,2)"
   ]
  },
  {
   "cell_type": "code",
   "execution_count": 51,
   "metadata": {},
   "outputs": [
    {
     "output_type": "execute_result",
     "data": {
      "text/plain": [
       "⎡1  0  0⎤\n",
       "⎢       ⎥\n",
       "⎢0  2  0⎥\n",
       "⎢       ⎥\n",
       "⎣0  0  3⎦"
      ],
      "text/latex": "$\\displaystyle \\left[\\begin{matrix}1 & 0 & 0\\\\0 & 2 & 0\\\\0 & 0 & 3\\end{matrix}\\right]$"
     },
     "metadata": {},
     "execution_count": 51
    }
   ],
   "source": [
    "diag(1,2,3)"
   ]
  },
  {
   "cell_type": "code",
   "execution_count": 53,
   "metadata": {},
   "outputs": [
    {
     "output_type": "execute_result",
     "data": {
      "text/plain": [
       "⎡-1  0  0  0⎤\n",
       "⎢           ⎥\n",
       "⎢0   1  1  0⎥\n",
       "⎢           ⎥\n",
       "⎢0   1  1  0⎥\n",
       "⎢           ⎥\n",
       "⎢0   0  0  5⎥\n",
       "⎢           ⎥\n",
       "⎢0   0  0  7⎥\n",
       "⎢           ⎥\n",
       "⎣0   0  0  5⎦"
      ],
      "text/latex": "$\\displaystyle \\left[\\begin{matrix}-1 & 0 & 0 & 0\\\\0 & 1 & 1 & 0\\\\0 & 1 & 1 & 0\\\\0 & 0 & 0 & 5\\\\0 & 0 & 0 & 7\\\\0 & 0 & 0 & 5\\end{matrix}\\right]$"
     },
     "metadata": {},
     "execution_count": 53
    }
   ],
   "source": [
    "diag(-1,ones(2,2),Matrix([5,7,5]))"
   ]
  },
  {
   "cell_type": "code",
   "execution_count": 55,
   "metadata": {},
   "outputs": [
    {
     "output_type": "execute_result",
     "data": {
      "text/plain": [
       "⎡1  0   1⎤\n",
       "⎢        ⎥\n",
       "⎢2  -1  3⎥\n",
       "⎢        ⎥\n",
       "⎣4  3   2⎦"
      ],
      "text/latex": "$\\displaystyle \\left[\\begin{matrix}1 & 0 & 1\\\\2 & -1 & 3\\\\4 & 3 & 2\\end{matrix}\\right]$"
     },
     "metadata": {},
     "execution_count": 55
    }
   ],
   "source": [
    "M = Matrix([[1,0,1],[2,-1,3],[4,3,2]])\n",
    "M"
   ]
  },
  {
   "cell_type": "code",
   "execution_count": 56,
   "metadata": {},
   "outputs": [
    {
     "output_type": "execute_result",
     "data": {
      "text/plain": [
       "-1"
      ],
      "text/latex": "$\\displaystyle -1$"
     },
     "metadata": {},
     "execution_count": 56
    }
   ],
   "source": [
    "M.det()"
   ]
  },
  {
   "cell_type": "code",
   "execution_count": 58,
   "metadata": {},
   "outputs": [
    {
     "output_type": "execute_result",
     "data": {
      "text/plain": [
       "⎡1   0   1   3 ⎤\n",
       "⎢              ⎥\n",
       "⎢2   3   4   7 ⎥\n",
       "⎢              ⎥\n",
       "⎣-1  -3  -3  -4⎦"
      ],
      "text/latex": "$\\displaystyle \\left[\\begin{matrix}1 & 0 & 1 & 3\\\\2 & 3 & 4 & 7\\\\-1 & -3 & -3 & -4\\end{matrix}\\right]$"
     },
     "metadata": {},
     "execution_count": 58
    }
   ],
   "source": [
    "M = Matrix([[1,0,1,3],[2,3,4,7],[-1,-3,-3,-4]])\n",
    "M"
   ]
  },
  {
   "cell_type": "code",
   "execution_count": 59,
   "metadata": {},
   "outputs": [
    {
     "output_type": "execute_result",
     "data": {
      "text/plain": [
       "⎛⎡1  0   1    3 ⎤        ⎞\n",
       "⎜⎢              ⎥        ⎟\n",
       "⎜⎢0  1  2/3  1/3⎥, (0, 1)⎟\n",
       "⎜⎢              ⎥        ⎟\n",
       "⎝⎣0  0   0    0 ⎦        ⎠"
      ],
      "text/latex": "$\\displaystyle \\left( \\left[\\begin{matrix}1 & 0 & 1 & 3\\\\0 & 1 & \\frac{2}{3} & \\frac{1}{3}\\\\0 & 0 & 0 & 0\\end{matrix}\\right], \\  \\left( 0, \\  1\\right)\\right)$"
     },
     "metadata": {},
     "execution_count": 59
    }
   ],
   "source": [
    "M.rref()"
   ]
  },
  {
   "cell_type": "code",
   "execution_count": 61,
   "metadata": {},
   "outputs": [
    {
     "output_type": "execute_result",
     "data": {
      "text/plain": [
       "⎡1  2   3  0  0⎤\n",
       "⎢              ⎥\n",
       "⎣4  10  0  0  1⎦"
      ],
      "text/latex": "$\\displaystyle \\left[\\begin{matrix}1 & 2 & 3 & 0 & 0\\\\4 & 10 & 0 & 0 & 1\\end{matrix}\\right]$"
     },
     "metadata": {},
     "execution_count": 61
    }
   ],
   "source": [
    "M = Matrix([[1,2,3,0,0],[4,10,0,0,1]])\n",
    "M"
   ]
  },
  {
   "cell_type": "code",
   "execution_count": 62,
   "metadata": {},
   "outputs": [
    {
     "output_type": "execute_result",
     "data": {
      "text/plain": [
       "⎡⎡-15⎤  ⎡0⎤  ⎡ 1  ⎤⎤\n",
       "⎢⎢   ⎥  ⎢ ⎥  ⎢    ⎥⎥\n",
       "⎢⎢ 6 ⎥  ⎢0⎥  ⎢-1/2⎥⎥\n",
       "⎢⎢   ⎥  ⎢ ⎥  ⎢    ⎥⎥\n",
       "⎢⎢ 1 ⎥, ⎢0⎥, ⎢ 0  ⎥⎥\n",
       "⎢⎢   ⎥  ⎢ ⎥  ⎢    ⎥⎥\n",
       "⎢⎢ 0 ⎥  ⎢1⎥  ⎢ 0  ⎥⎥\n",
       "⎢⎢   ⎥  ⎢ ⎥  ⎢    ⎥⎥\n",
       "⎣⎣ 0 ⎦  ⎣0⎦  ⎣ 1  ⎦⎦"
      ],
      "text/latex": "$\\displaystyle \\left[ \\left[\\begin{matrix}-15\\\\6\\\\1\\\\0\\\\0\\end{matrix}\\right], \\  \\left[\\begin{matrix}0\\\\0\\\\0\\\\1\\\\0\\end{matrix}\\right], \\  \\left[\\begin{matrix}1\\\\- \\frac{1}{2}\\\\0\\\\0\\\\1\\end{matrix}\\right]\\right]$"
     },
     "metadata": {},
     "execution_count": 62
    }
   ],
   "source": [
    "M.nullspace()"
   ]
  },
  {
   "cell_type": "code",
   "execution_count": 64,
   "metadata": {},
   "outputs": [
    {
     "output_type": "execute_result",
     "data": {
      "text/plain": [
       "⎡1  1  2⎤\n",
       "⎢       ⎥\n",
       "⎢2  1  3⎥\n",
       "⎢       ⎥\n",
       "⎣3  1  4⎦"
      ],
      "text/latex": "$\\displaystyle \\left[\\begin{matrix}1 & 1 & 2\\\\2 & 1 & 3\\\\3 & 1 & 4\\end{matrix}\\right]$"
     },
     "metadata": {},
     "execution_count": 64
    }
   ],
   "source": [
    "M = Matrix([[1,1,2],[2,1,3],[3,1,4]])\n",
    "M"
   ]
  },
  {
   "cell_type": "code",
   "execution_count": 65,
   "metadata": {},
   "outputs": [
    {
     "output_type": "execute_result",
     "data": {
      "text/plain": [
       "⎡⎡1⎤  ⎡1⎤⎤\n",
       "⎢⎢ ⎥  ⎢ ⎥⎥\n",
       "⎢⎢2⎥, ⎢1⎥⎥\n",
       "⎢⎢ ⎥  ⎢ ⎥⎥\n",
       "⎣⎣3⎦  ⎣1⎦⎦"
      ],
      "text/latex": "$\\displaystyle \\left[ \\left[\\begin{matrix}1\\\\2\\\\3\\end{matrix}\\right], \\  \\left[\\begin{matrix}1\\\\1\\\\1\\end{matrix}\\right]\\right]$"
     },
     "metadata": {},
     "execution_count": 65
    }
   ],
   "source": [
    "M.columnspace()"
   ]
  },
  {
   "cell_type": "code",
   "execution_count": 67,
   "metadata": {},
   "outputs": [
    {
     "output_type": "execute_result",
     "data": {
      "text/plain": [
       "⎡3  -2  4   -2⎤\n",
       "⎢             ⎥\n",
       "⎢5  3   -3  -2⎥\n",
       "⎢             ⎥\n",
       "⎢5  -2  2   -2⎥\n",
       "⎢             ⎥\n",
       "⎣5  -2  -3  3 ⎦"
      ],
      "text/latex": "$\\displaystyle \\left[\\begin{matrix}3 & -2 & 4 & -2\\\\5 & 3 & -3 & -2\\\\5 & -2 & 2 & -2\\\\5 & -2 & -3 & 3\\end{matrix}\\right]$"
     },
     "metadata": {},
     "execution_count": 67
    }
   ],
   "source": [
    "M = Matrix([[3, -2,  4, -2], [5,  3, -3, -2], [5, -2,  2, -2], [5, -2, -3,  3]])\n",
    "M"
   ]
  },
  {
   "cell_type": "code",
   "execution_count": 69,
   "metadata": {},
   "outputs": [
    {
     "output_type": "execute_result",
     "data": {
      "text/plain": [
       "{-2: 1, 3: 1, 5: 2}"
      ],
      "text/latex": "$\\displaystyle \\left\\{ -2 : 1, \\  3 : 1, \\  5 : 2\\right\\}$"
     },
     "metadata": {},
     "execution_count": 69
    }
   ],
   "source": [
    "M.eigenvals()"
   ]
  },
  {
   "cell_type": "code",
   "execution_count": 70,
   "metadata": {},
   "outputs": [
    {
     "output_type": "execute_result",
     "data": {
      "text/plain": [
       "⎡⎛       ⎡⎡0⎤⎤⎞  ⎛      ⎡⎡1⎤⎤⎞  ⎛      ⎡⎡1⎤  ⎡0 ⎤⎤⎞⎤\n",
       "⎢⎜       ⎢⎢ ⎥⎥⎟  ⎜      ⎢⎢ ⎥⎥⎟  ⎜      ⎢⎢ ⎥  ⎢  ⎥⎥⎟⎥\n",
       "⎢⎜       ⎢⎢1⎥⎥⎟  ⎜      ⎢⎢1⎥⎥⎟  ⎜      ⎢⎢1⎥  ⎢-1⎥⎥⎟⎥\n",
       "⎢⎜-2, 1, ⎢⎢ ⎥⎥⎟, ⎜3, 1, ⎢⎢ ⎥⎥⎟, ⎜5, 2, ⎢⎢ ⎥, ⎢  ⎥⎥⎟⎥\n",
       "⎢⎜       ⎢⎢1⎥⎥⎟  ⎜      ⎢⎢1⎥⎥⎟  ⎜      ⎢⎢1⎥  ⎢0 ⎥⎥⎟⎥\n",
       "⎢⎜       ⎢⎢ ⎥⎥⎟  ⎜      ⎢⎢ ⎥⎥⎟  ⎜      ⎢⎢ ⎥  ⎢  ⎥⎥⎟⎥\n",
       "⎣⎝       ⎣⎣1⎦⎦⎠  ⎝      ⎣⎣1⎦⎦⎠  ⎝      ⎣⎣0⎦  ⎣1 ⎦⎦⎠⎦"
      ],
      "text/latex": "$\\displaystyle \\left[ \\left( -2, \\  1, \\  \\left[ \\left[\\begin{matrix}0\\\\1\\\\1\\\\1\\end{matrix}\\right]\\right]\\right), \\  \\left( 3, \\  1, \\  \\left[ \\left[\\begin{matrix}1\\\\1\\\\1\\\\1\\end{matrix}\\right]\\right]\\right), \\  \\left( 5, \\  2, \\  \\left[ \\left[\\begin{matrix}1\\\\1\\\\1\\\\0\\end{matrix}\\right], \\  \\left[\\begin{matrix}0\\\\-1\\\\0\\\\1\\end{matrix}\\right]\\right]\\right)\\right]$"
     },
     "metadata": {},
     "execution_count": 70
    }
   ],
   "source": [
    "M.eigenvects()"
   ]
  },
  {
   "cell_type": "code",
   "execution_count": 71,
   "metadata": {},
   "outputs": [
    {
     "output_type": "execute_result",
     "data": {
      "text/plain": [
       "⎡0  1  1  0 ⎤\n",
       "⎢           ⎥\n",
       "⎢1  1  1  -1⎥\n",
       "⎢           ⎥\n",
       "⎢1  1  1  0 ⎥\n",
       "⎢           ⎥\n",
       "⎣1  1  0  1 ⎦"
      ],
      "text/latex": "$\\displaystyle \\left[\\begin{matrix}0 & 1 & 1 & 0\\\\1 & 1 & 1 & -1\\\\1 & 1 & 1 & 0\\\\1 & 1 & 0 & 1\\end{matrix}\\right]$"
     },
     "metadata": {},
     "execution_count": 71
    }
   ],
   "source": [
    "P,D = M.diagonalize()\n",
    "P"
   ]
  },
  {
   "cell_type": "code",
   "execution_count": 72,
   "metadata": {},
   "outputs": [
    {
     "output_type": "execute_result",
     "data": {
      "text/plain": [
       "⎡-2  0  0  0⎤\n",
       "⎢           ⎥\n",
       "⎢0   3  0  0⎥\n",
       "⎢           ⎥\n",
       "⎢0   0  5  0⎥\n",
       "⎢           ⎥\n",
       "⎣0   0  0  5⎦"
      ],
      "text/latex": "$\\displaystyle \\left[\\begin{matrix}-2 & 0 & 0 & 0\\\\0 & 3 & 0 & 0\\\\0 & 0 & 5 & 0\\\\0 & 0 & 0 & 5\\end{matrix}\\right]$"
     },
     "metadata": {},
     "execution_count": 72
    }
   ],
   "source": [
    "D"
   ]
  },
  {
   "cell_type": "code",
   "execution_count": 74,
   "metadata": {},
   "outputs": [
    {
     "output_type": "execute_result",
     "data": {
      "text/plain": [
       "⎡3  -2  4   -2⎤\n",
       "⎢             ⎥\n",
       "⎢5  3   -3  -2⎥\n",
       "⎢             ⎥\n",
       "⎢5  -2  2   -2⎥\n",
       "⎢             ⎥\n",
       "⎣5  -2  -3  3 ⎦"
      ],
      "text/latex": "$\\displaystyle \\left[\\begin{matrix}3 & -2 & 4 & -2\\\\5 & 3 & -3 & -2\\\\5 & -2 & 2 & -2\\\\5 & -2 & -3 & 3\\end{matrix}\\right]$"
     },
     "metadata": {},
     "execution_count": 74
    }
   ],
   "source": [
    "P*D*P**-1"
   ]
  },
  {
   "cell_type": "code",
   "execution_count": 75,
   "metadata": {},
   "outputs": [
    {
     "output_type": "execute_result",
     "data": {
      "text/plain": [
       "True"
      ]
     },
     "metadata": {},
     "execution_count": 75
    }
   ],
   "source": [
    "P*D*P**-1 == M"
   ]
  },
  {
   "cell_type": "code",
   "execution_count": 77,
   "metadata": {},
   "outputs": [
    {
     "output_type": "execute_result",
     "data": {
      "text/plain": [
       "       2                \n",
       "(λ - 5) ⋅(λ - 3)⋅(λ + 2)"
      ],
      "text/latex": "$\\displaystyle \\left(\\lambda - 5\\right)^{2} \\left(\\lambda - 3\\right) \\left(\\lambda + 2\\right)$"
     },
     "metadata": {},
     "execution_count": 77
    }
   ],
   "source": [
    "lamda = symbols('lamda')\n",
    "p = M.charpoly(lamda)\n",
    "factor(p.as_expr())"
   ]
  },
  {
   "cell_type": "code",
   "execution_count": 80,
   "metadata": {},
   "outputs": [
    {
     "output_type": "execute_result",
     "data": {
      "text/plain": [
       "⎡⎡ ⎛     q     ⎛q⎞         2⎛q⎞          -q     ⎛q⎞⎞ ⎤⎤\n",
       "⎢⎢-⎜- 2⋅ℯ ⋅cosh⎜─⎟ - 4⋅cosh ⎜─⎟ - 1 - 2⋅ℯ  ⋅cosh⎜─⎟⎟ ⎥⎥\n",
       "⎢⎢ ⎝           ⎝3⎠          ⎝3⎠                 ⎝3⎠⎠ ⎥⎥\n",
       "⎢⎢───────────────────────────────────────────────────⎥⎥\n",
       "⎢⎢             q     2⎛q⎞         ⎛q⎞    -q          ⎥⎥\n",
       "⎢⎢          4⋅ℯ ⋅cosh ⎜─⎟ + 4⋅cosh⎜─⎟ + ℯ            ⎥⎥\n",
       "⎢⎢                    ⎝3⎠         ⎝3⎠                ⎥⎥\n",
       "⎢⎢                                                   ⎥⎥\n",
       "⎢⎢                 ⎛          2⎛q⎞⎞                  ⎥⎥\n",
       "⎢⎢                -⎜1 - 4⋅cosh ⎜─⎟⎟                  ⎥⎥\n",
       "⎢⎢                 ⎝           ⎝3⎠⎠                  ⎥⎥\n",
       "⎢⎢                ──────────────────                 ⎥⎥\n",
       "⎢⎢                       ⎛q⎞    -q                   ⎥⎥\n",
       "⎢⎢                 2⋅cosh⎜─⎟ + ℯ                     ⎥⎥\n",
       "⎢⎢                       ⎝3⎠                         ⎥⎥\n",
       "⎢⎢                                                   ⎥⎥\n",
       "⎣⎣                         1                         ⎦⎦"
      ],
      "text/latex": "$\\displaystyle \\left[ \\left[\\begin{matrix}- \\frac{- 2 e^{q} \\cosh{\\left(\\frac{q}{3} \\right)} - 4 \\cosh^{2}{\\left(\\frac{q}{3} \\right)} - 1 - 2 e^{- q} \\cosh{\\left(\\frac{q}{3} \\right)}}{4 e^{q} \\cosh^{2}{\\left(\\frac{q}{3} \\right)} + 4 \\cosh{\\left(\\frac{q}{3} \\right)} + e^{- q}}\\\\- \\frac{1 - 4 \\cosh^{2}{\\left(\\frac{q}{3} \\right)}}{2 \\cosh{\\left(\\frac{q}{3} \\right)} + e^{- q}}\\\\1\\end{matrix}\\right]\\right]$"
     },
     "metadata": {},
     "execution_count": 80
    }
   ],
   "source": [
    "from sympy import *\n",
    "q = Symbol(\"q\",positive = True)\n",
    "m = Matrix([\n",
    "    [-2*cosh(q/3),exp(-q),1],\n",
    "    [exp(q), -2*cosh(q/3),1],\n",
    "    [1,1,-2*cosh(q/3)]]\n",
    "    )\n",
    "m.nullspace()"
   ]
  },
  {
   "cell_type": "code",
   "execution_count": 81,
   "metadata": {},
   "outputs": [
    {
     "output_type": "stream",
     "name": "stderr",
     "text": [
      "C:\\Users\\valle\\.conda\\envs\\deeplearning\\lib\\site-packages\\ipykernel_launcher.py:10: UserWarning: Zero testing of 4*cosh(q/3)**2 - 1 evaluated into None\n  # Remove the CWD from sys.path while we load stuff.\nC:\\Users\\valle\\.conda\\envs\\deeplearning\\lib\\site-packages\\ipykernel_launcher.py:10: UserWarning: Zero testing of 2*exp(q)*cosh(q/3) - 16*cosh(q/3)**4 + 12*cosh(q/3)**2 + 2*exp(-q)*cosh(q/3) evaluated into None\n  # Remove the CWD from sys.path while we load stuff.\n"
     ]
    },
    {
     "output_type": "execute_result",
     "data": {
      "text/plain": [
       "⎡⎡ ⎛     q     ⎛q⎞         2⎛q⎞          -q     ⎛q⎞⎞ ⎤⎤\n",
       "⎢⎢-⎜- 2⋅ℯ ⋅cosh⎜─⎟ - 4⋅cosh ⎜─⎟ - 1 - 2⋅ℯ  ⋅cosh⎜─⎟⎟ ⎥⎥\n",
       "⎢⎢ ⎝           ⎝3⎠          ⎝3⎠                 ⎝3⎠⎠ ⎥⎥\n",
       "⎢⎢───────────────────────────────────────────────────⎥⎥\n",
       "⎢⎢             q     2⎛q⎞         ⎛q⎞    -q          ⎥⎥\n",
       "⎢⎢          4⋅ℯ ⋅cosh ⎜─⎟ + 4⋅cosh⎜─⎟ + ℯ            ⎥⎥\n",
       "⎢⎢                    ⎝3⎠         ⎝3⎠                ⎥⎥\n",
       "⎢⎢                                                   ⎥⎥\n",
       "⎢⎢                 ⎛          2⎛q⎞⎞                  ⎥⎥\n",
       "⎢⎢                -⎜1 - 4⋅cosh ⎜─⎟⎟                  ⎥⎥\n",
       "⎢⎢                 ⎝           ⎝3⎠⎠                  ⎥⎥\n",
       "⎢⎢                ──────────────────                 ⎥⎥\n",
       "⎢⎢                       ⎛q⎞    -q                   ⎥⎥\n",
       "⎢⎢                 2⋅cosh⎜─⎟ + ℯ                     ⎥⎥\n",
       "⎢⎢                       ⎝3⎠                         ⎥⎥\n",
       "⎢⎢                                                   ⎥⎥\n",
       "⎣⎣                         1                         ⎦⎦"
      ],
      "text/latex": "$\\displaystyle \\left[ \\left[\\begin{matrix}- \\frac{- 2 e^{q} \\cosh{\\left(\\frac{q}{3} \\right)} - 4 \\cosh^{2}{\\left(\\frac{q}{3} \\right)} - 1 - 2 e^{- q} \\cosh{\\left(\\frac{q}{3} \\right)}}{4 e^{q} \\cosh^{2}{\\left(\\frac{q}{3} \\right)} + 4 \\cosh{\\left(\\frac{q}{3} \\right)} + e^{- q}}\\\\- \\frac{1 - 4 \\cosh^{2}{\\left(\\frac{q}{3} \\right)}}{2 \\cosh{\\left(\\frac{q}{3} \\right)} + e^{- q}}\\\\1\\end{matrix}\\right]\\right]$"
     },
     "metadata": {},
     "execution_count": 81
    }
   ],
   "source": [
    "import warnings\n",
    "\n",
    "def my_iszero(x):\n",
    "     try:\n",
    "         result = x.is_zero\n",
    "     except AttributeError:\n",
    "         result = None\n",
    " \n",
    "     if result is None:\n",
    "         warnings.warn(\"Zero testing of {} evaluated into None\".format(x))\n",
    "     return result\n",
    "m.nullspace(iszerofunc=my_iszero)"
   ]
  },
  {
   "cell_type": "code",
   "execution_count": 82,
   "metadata": {},
   "outputs": [
    {
     "output_type": "stream",
     "name": "stderr",
     "text": [
      "C:\\Users\\valle\\.conda\\envs\\deeplearning\\lib\\site-packages\\ipykernel_launcher.py:8: UserWarning: Zero testing of -2*cosh(q/3) - exp(-q) evaluated into None\n  \n"
     ]
    },
    {
     "output_type": "execute_result",
     "data": {
      "text/plain": [
       "⎡⎡ ⎛     q     ⎛q⎞    ⎞ ⎤⎤\n",
       "⎢⎢-⎜- 2⋅ℯ ⋅cosh⎜─⎟ - 1⎟ ⎥⎥\n",
       "⎢⎢ ⎝           ⎝3⎠    ⎠ ⎥⎥\n",
       "⎢⎢──────────────────────⎥⎥\n",
       "⎢⎢     q     2⎛q⎞    q  ⎥⎥\n",
       "⎢⎢  4⋅ℯ ⋅cosh ⎜─⎟ - ℯ   ⎥⎥\n",
       "⎢⎢            ⎝3⎠       ⎥⎥\n",
       "⎢⎢                      ⎥⎥\n",
       "⎢⎢  ⎛   q         ⎛q⎞⎞  ⎥⎥\n",
       "⎢⎢ -⎜- ℯ  - 2⋅cosh⎜─⎟⎟  ⎥⎥\n",
       "⎢⎢  ⎝             ⎝3⎠⎠  ⎥⎥\n",
       "⎢⎢ ──────────────────── ⎥⎥\n",
       "⎢⎢          2⎛q⎞        ⎥⎥\n",
       "⎢⎢    4⋅cosh ⎜─⎟ - 1    ⎥⎥\n",
       "⎢⎢           ⎝3⎠        ⎥⎥\n",
       "⎢⎢                      ⎥⎥\n",
       "⎣⎣          1           ⎦⎦"
      ],
      "text/latex": "$\\displaystyle \\left[ \\left[\\begin{matrix}- \\frac{- 2 e^{q} \\cosh{\\left(\\frac{q}{3} \\right)} - 1}{4 e^{q} \\cosh^{2}{\\left(\\frac{q}{3} \\right)} - e^{q}}\\\\- \\frac{- e^{q} - 2 \\cosh{\\left(\\frac{q}{3} \\right)}}{4 \\cosh^{2}{\\left(\\frac{q}{3} \\right)} - 1}\\\\1\\end{matrix}\\right]\\right]$"
     },
     "metadata": {},
     "execution_count": 82
    }
   ],
   "source": [
    "def my_iszero(x):\n",
    "     try:\n",
    "         result = x.rewrite(exp).simplify().is_zero\n",
    "     except AttributeError:\n",
    "         result = None\n",
    " \n",
    "     if result is None:\n",
    "         warnings.warn(\"Zero testing of {} evaluated into None\".format(x))\n",
    "     return result\n",
    "m.nullspace(iszerofunc=my_iszero)"
   ]
  },
  {
   "cell_type": "code",
   "execution_count": 83,
   "metadata": {},
   "outputs": [],
   "source": [
    "###\n",
    "### Advanced Expression Manipulation\n",
    "\n",
    "from sympy import *\n",
    "x,y,z = symbols('x,y,z')"
   ]
  },
  {
   "cell_type": "code",
   "execution_count": 84,
   "metadata": {},
   "outputs": [
    {
     "output_type": "execute_result",
     "data": {
      "text/plain": [
       "\"Add(Pow(Symbol('x'), Integer(2)), Mul(Symbol('x'), Symbol('y')))\""
      ]
     },
     "metadata": {},
     "execution_count": 84
    }
   ],
   "source": [
    "expr = x**2 + x*y\n",
    "srepr(expr)"
   ]
  },
  {
   "cell_type": "code",
   "execution_count": 85,
   "metadata": {},
   "outputs": [],
   "source": [
    "x = symbols('x')"
   ]
  },
  {
   "cell_type": "code",
   "execution_count": 86,
   "metadata": {},
   "outputs": [],
   "source": [
    "x = symbols('x')"
   ]
  },
  {
   "cell_type": "code",
   "execution_count": 87,
   "metadata": {},
   "outputs": [
    {
     "output_type": "execute_result",
     "data": {
      "text/plain": [
       "\"Pow(Symbol('x'), Integer(2))\""
      ]
     },
     "metadata": {},
     "execution_count": 87
    }
   ],
   "source": [
    "srepr(x**2)"
   ]
  },
  {
   "cell_type": "code",
   "execution_count": 88,
   "metadata": {},
   "outputs": [
    {
     "output_type": "execute_result",
     "data": {
      "text/plain": [
       " 2\n",
       "x "
      ],
      "text/latex": "$\\displaystyle x^{2}$"
     },
     "metadata": {},
     "execution_count": 88
    }
   ],
   "source": [
    "Pow(x,2)"
   ]
  },
  {
   "cell_type": "code",
   "execution_count": 89,
   "metadata": {},
   "outputs": [
    {
     "output_type": "execute_result",
     "data": {
      "text/plain": [
       "int"
      ]
     },
     "metadata": {},
     "execution_count": 89
    }
   ],
   "source": [
    "type(2)"
   ]
  },
  {
   "cell_type": "code",
   "execution_count": 90,
   "metadata": {},
   "outputs": [
    {
     "output_type": "execute_result",
     "data": {
      "text/plain": [
       "sympy.core.numbers.Integer"
      ]
     },
     "metadata": {},
     "execution_count": 90
    }
   ],
   "source": [
    "type(sympify(2))"
   ]
  },
  {
   "cell_type": "code",
   "execution_count": 91,
   "metadata": {},
   "outputs": [
    {
     "output_type": "execute_result",
     "data": {
      "text/plain": [
       "\"Mul(Symbol('x'), Symbol('y'))\""
      ]
     },
     "metadata": {},
     "execution_count": 91
    }
   ],
   "source": [
    "srepr(x*y)"
   ]
  },
  {
   "cell_type": "code",
   "execution_count": 92,
   "metadata": {},
   "outputs": [
    {
     "output_type": "execute_result",
     "data": {
      "text/plain": [
       "x⋅y"
      ],
      "text/latex": "$\\displaystyle x y$"
     },
     "metadata": {},
     "execution_count": 92
    }
   ],
   "source": [
    "Mul(x,y)"
   ]
  },
  {
   "cell_type": "code",
   "execution_count": 94,
   "metadata": {},
   "outputs": [
    {
     "output_type": "execute_result",
     "data": {
      "text/plain": [
       "['_PrintFunction__other_params',\n",
       " '_PrintFunction__print_cls',\n",
       " '__annotations__',\n",
       " '__call__',\n",
       " '__class__',\n",
       " '__delattr__',\n",
       " '__dict__',\n",
       " '__dir__',\n",
       " '__doc__',\n",
       " '__eq__',\n",
       " '__format__',\n",
       " '__ge__',\n",
       " '__getattribute__',\n",
       " '__gt__',\n",
       " '__hash__',\n",
       " '__init__',\n",
       " '__init_subclass__',\n",
       " '__le__',\n",
       " '__lt__',\n",
       " '__module__',\n",
       " '__name__',\n",
       " '__ne__',\n",
       " '__new__',\n",
       " '__qualname__',\n",
       " '__reduce__',\n",
       " '__reduce_ex__',\n",
       " '__repr__',\n",
       " '__setattr__',\n",
       " '__signature__',\n",
       " '__sizeof__',\n",
       " '__str__',\n",
       " '__subclasshook__',\n",
       " '__weakref__',\n",
       " '__wrapped__']"
      ]
     },
     "metadata": {},
     "execution_count": 94
    }
   ],
   "source": [
    "dir(srepr)"
   ]
  },
  {
   "cell_type": "code",
   "execution_count": 95,
   "metadata": {},
   "outputs": [
    {
     "output_type": "execute_result",
     "data": {
      "text/plain": [
       " 2      \n",
       "x  + x⋅y"
      ],
      "text/latex": "$\\displaystyle x^{2} + x y$"
     },
     "metadata": {},
     "execution_count": 95
    }
   ],
   "source": [
    "Add(Pow(x,2),Mul(x,y))"
   ]
  },
  {
   "cell_type": "code",
   "execution_count": 96,
   "metadata": {},
   "outputs": [
    {
     "output_type": "execute_result",
     "data": {
      "text/plain": [
       "\"Add(Mul(Integer(-1), Pow(Symbol('x'), Integer(2))), Mul(Rational(1, 2), sin(Mul(Symbol('x'), Symbol('y')))), Pow(Symbol('y'), Integer(-1)))\""
      ]
     },
     "metadata": {},
     "execution_count": 96
    }
   ],
   "source": [
    "expr =sin(x*y)/2 -x**2+1/y\n",
    "srepr(expr)"
   ]
  },
  {
   "cell_type": "code",
   "execution_count": 97,
   "metadata": {},
   "outputs": [
    {
     "output_type": "execute_result",
     "data": {
      "text/plain": [
       "\"Add(Symbol('x'), Mul(Integer(-1), Symbol('y')))\""
      ]
     },
     "metadata": {},
     "execution_count": 97
    }
   ],
   "source": [
    "srepr(x-y)"
   ]
  },
  {
   "cell_type": "code",
   "execution_count": 99,
   "metadata": {},
   "outputs": [
    {
     "output_type": "execute_result",
     "data": {
      "text/plain": [
       "\"Mul(Symbol('x'), Pow(Symbol('y'), Integer(-1)))\""
      ]
     },
     "metadata": {},
     "execution_count": 99
    }
   ],
   "source": [
    "expr=x/y\n",
    "srepr(expr)"
   ]
  },
  {
   "cell_type": "code",
   "execution_count": 102,
   "metadata": {},
   "outputs": [
    {
     "output_type": "execute_result",
     "data": {
      "text/plain": [
       "x + 1"
      ],
      "text/latex": "$\\displaystyle x + 1$"
     },
     "metadata": {},
     "execution_count": 102
    }
   ],
   "source": [
    "1+x"
   ]
  },
  {
   "cell_type": "code",
   "execution_count": 103,
   "metadata": {},
   "outputs": [
    {
     "output_type": "execute_result",
     "data": {
      "text/plain": [
       "sympy.core.mul.Mul"
      ]
     },
     "metadata": {},
     "execution_count": 103
    }
   ],
   "source": [
    "expr= Add(x,x)\n",
    "expr.func"
   ]
  },
  {
   "cell_type": "code",
   "execution_count": 104,
   "metadata": {},
   "outputs": [
    {
     "output_type": "execute_result",
     "data": {
      "text/plain": [
       "2⋅x"
      ],
      "text/latex": "$\\displaystyle 2 x$"
     },
     "metadata": {},
     "execution_count": 104
    }
   ],
   "source": [
    "expr"
   ]
  },
  {
   "cell_type": "code",
   "execution_count": 105,
   "metadata": {},
   "outputs": [
    {
     "output_type": "execute_result",
     "data": {
      "text/plain": [
       "sympy.core.numbers.Integer"
      ]
     },
     "metadata": {},
     "execution_count": 105
    }
   ],
   "source": [
    "Integer(2).func"
   ]
  },
  {
   "cell_type": "code",
   "execution_count": 106,
   "metadata": {},
   "outputs": [
    {
     "output_type": "execute_result",
     "data": {
      "text/plain": [
       "sympy.core.numbers.Zero"
      ]
     },
     "metadata": {},
     "execution_count": 106
    }
   ],
   "source": [
    "Integer(0).func"
   ]
  },
  {
   "cell_type": "code",
   "execution_count": 107,
   "metadata": {},
   "outputs": [
    {
     "output_type": "execute_result",
     "data": {
      "text/plain": [
       "sympy.core.numbers.NegativeOne"
      ]
     },
     "metadata": {},
     "execution_count": 107
    }
   ],
   "source": [
    "Integer(-1).func"
   ]
  },
  {
   "cell_type": "code",
   "execution_count": 108,
   "metadata": {},
   "outputs": [
    {
     "output_type": "execute_result",
     "data": {
      "text/plain": [
       "2⋅x"
      ],
      "text/latex": "$\\displaystyle 2 x$"
     },
     "metadata": {},
     "execution_count": 108
    }
   ],
   "source": [
    "expr.func(*expr.args)"
   ]
  },
  {
   "cell_type": "code",
   "execution_count": 109,
   "metadata": {},
   "outputs": [
    {
     "output_type": "execute_result",
     "data": {
      "text/plain": [
       "True"
      ]
     },
     "metadata": {},
     "execution_count": 109
    }
   ],
   "source": [
    "expr == expr.func(*expr.args)"
   ]
  },
  {
   "cell_type": "code",
   "execution_count": 110,
   "metadata": {},
   "outputs": [
    {
     "output_type": "execute_result",
     "data": {
      "text/plain": [
       "⎛       2⎞\n",
       "⎝3, x, y ⎠"
      ],
      "text/latex": "$\\displaystyle \\left( 3, \\  x, \\  y^{2}\\right)$"
     },
     "metadata": {},
     "execution_count": 110
    }
   ],
   "source": [
    "expr = y**2*3*x\n",
    "expr.args"
   ]
  },
  {
   "cell_type": "code",
   "execution_count": 112,
   "metadata": {},
   "outputs": [
    {
     "output_type": "execute_result",
     "data": {
      "text/plain": [
       " 2\n",
       "y "
      ],
      "text/latex": "$\\displaystyle y^{2}$"
     },
     "metadata": {},
     "execution_count": 112
    }
   ],
   "source": [
    "expr.args[2]"
   ]
  },
  {
   "cell_type": "code",
   "execution_count": 113,
   "metadata": {},
   "outputs": [
    {
     "output_type": "execute_result",
     "data": {
      "text/plain": [
       "(y, 2)"
      ],
      "text/latex": "$\\displaystyle \\left( y, \\  2\\right)$"
     },
     "metadata": {},
     "execution_count": 113
    }
   ],
   "source": [
    "expr.args[2].args"
   ]
  },
  {
   "cell_type": "code",
   "execution_count": 114,
   "metadata": {},
   "outputs": [
    {
     "output_type": "execute_result",
     "data": {
      "text/plain": [
       "()"
      ],
      "text/latex": "$\\displaystyle \\left( \\right)$"
     },
     "metadata": {},
     "execution_count": 114
    }
   ],
   "source": [
    "y.args"
   ]
  },
  {
   "cell_type": "code",
   "execution_count": 115,
   "metadata": {},
   "outputs": [
    {
     "output_type": "execute_result",
     "data": {
      "text/plain": [
       "()"
      ],
      "text/latex": "$\\displaystyle \\left( \\right)$"
     },
     "metadata": {},
     "execution_count": 115
    }
   ],
   "source": [
    "Integer(2).args"
   ]
  },
  {
   "cell_type": "code",
   "execution_count": 116,
   "metadata": {},
   "outputs": [],
   "source": [
    "def pre(expr):\n",
    "    print(expr)\n",
    "    for arg in expr.args:\n",
    "        pre(arg)"
   ]
  },
  {
   "cell_type": "code",
   "execution_count": 117,
   "metadata": {},
   "outputs": [
    {
     "output_type": "stream",
     "name": "stdout",
     "text": [
      "x*y + 1\n1\nx*y\nx\ny\n"
     ]
    }
   ],
   "source": [
    "expr = x*y +1\n",
    "pre(expr)"
   ]
  },
  {
   "cell_type": "code",
   "execution_count": 118,
   "metadata": {},
   "outputs": [
    {
     "output_type": "stream",
     "name": "stdout",
     "text": [
      "x*y + 1\n1\nx*y\nx\ny\n"
     ]
    }
   ],
   "source": [
    "for arg in preorder_traversal(expr):\n",
    "    print(arg)"
   ]
  },
  {
   "cell_type": "code",
   "execution_count": 119,
   "metadata": {},
   "outputs": [
    {
     "output_type": "execute_result",
     "data": {
      "text/plain": [
       "2⋅x"
      ],
      "text/latex": "$\\displaystyle 2 x$"
     },
     "metadata": {},
     "execution_count": 119
    }
   ],
   "source": [
    "from sympy import Add\n",
    "from sympy.abc import x,y,z\n",
    "x+x"
   ]
  },
  {
   "cell_type": "code",
   "execution_count": 120,
   "metadata": {},
   "outputs": [
    {
     "output_type": "execute_result",
     "data": {
      "text/plain": [
       "2⋅x"
      ],
      "text/latex": "$\\displaystyle 2 x$"
     },
     "metadata": {},
     "execution_count": 120
    }
   ],
   "source": [
    "Add(x,x)"
   ]
  },
  {
   "cell_type": "code",
   "execution_count": 121,
   "metadata": {},
   "outputs": [
    {
     "output_type": "execute_result",
     "data": {
      "text/plain": [
       "x + x"
      ],
      "text/latex": "$\\displaystyle x + x$"
     },
     "metadata": {},
     "execution_count": 121
    }
   ],
   "source": [
    "Add(x,x,evaluate =False)"
   ]
  },
  {
   "cell_type": "code",
   "execution_count": 122,
   "metadata": {},
   "outputs": [
    {
     "output_type": "execute_result",
     "data": {
      "text/plain": [
       "x + x"
      ],
      "text/latex": "$\\displaystyle x + x$"
     },
     "metadata": {},
     "execution_count": 122
    }
   ],
   "source": [
    "from sympy import sympify\n",
    "sympify(\"x+x\",evaluate = False)"
   ]
  },
  {
   "cell_type": "code",
   "execution_count": 123,
   "metadata": {},
   "outputs": [
    {
     "output_type": "execute_result",
     "data": {
      "text/plain": [
       "x + x"
      ],
      "text/latex": "$\\displaystyle x + x$"
     },
     "metadata": {},
     "execution_count": 123
    }
   ],
   "source": [
    "expr = Add(x,x,evaluate = False)\n",
    "expr"
   ]
  },
  {
   "cell_type": "code",
   "execution_count": 124,
   "metadata": {},
   "outputs": [
    {
     "output_type": "execute_result",
     "data": {
      "text/plain": [
       "3⋅x"
      ],
      "text/latex": "$\\displaystyle 3 x$"
     },
     "metadata": {},
     "execution_count": 124
    }
   ],
   "source": [
    "expr + x"
   ]
  },
  {
   "cell_type": "code",
   "execution_count": 126,
   "metadata": {},
   "outputs": [
    {
     "output_type": "execute_result",
     "data": {
      "text/plain": [
       "x + x"
      ],
      "text/latex": "$\\displaystyle x + x$"
     },
     "metadata": {},
     "execution_count": 126
    }
   ],
   "source": [
    "from sympy import UnevaluatedExpr\n",
    "expr = x + UnevaluatedExpr(x)\n",
    "expr"
   ]
  },
  {
   "cell_type": "code",
   "execution_count": 127,
   "metadata": {},
   "outputs": [
    {
     "output_type": "execute_result",
     "data": {
      "text/plain": [
       "2⋅x + x"
      ],
      "text/latex": "$\\displaystyle 2 x + x$"
     },
     "metadata": {},
     "execution_count": 127
    }
   ],
   "source": [
    "x + expr"
   ]
  },
  {
   "cell_type": "code",
   "execution_count": 128,
   "metadata": {},
   "outputs": [
    {
     "output_type": "execute_result",
     "data": {
      "text/plain": [
       "3⋅x"
      ],
      "text/latex": "$\\displaystyle 3 x$"
     },
     "metadata": {},
     "execution_count": 128
    }
   ],
   "source": [
    "(x+expr).doit()"
   ]
  },
  {
   "cell_type": "code",
   "execution_count": 129,
   "metadata": {},
   "outputs": [
    {
     "output_type": "execute_result",
     "data": {
      "text/plain": [
       "5/7⋅3/4"
      ],
      "text/latex": "$\\displaystyle \\frac{5}{7} \\frac{3}{4}$"
     },
     "metadata": {},
     "execution_count": 129
    }
   ],
   "source": [
    "from sympy import *\n",
    "from sympy.abc import x,y,z\n",
    "uexpr = UnevaluatedExpr(S.One*5/7)*UnevaluatedExpr(S.One*3/4)\n",
    "uexpr"
   ]
  },
  {
   "cell_type": "code",
   "execution_count": 130,
   "metadata": {},
   "outputs": [
    {
     "output_type": "execute_result",
     "data": {
      "text/plain": [
       "  1\n",
       "x⋅─\n",
       "  x"
      ],
      "text/latex": "$\\displaystyle x \\frac{1}{x}$"
     },
     "metadata": {},
     "execution_count": 130
    }
   ],
   "source": [
    "x*UnevaluatedExpr(1/x)"
   ]
  },
  {
   "cell_type": "code",
   "execution_count": 131,
   "metadata": {},
   "outputs": [
    {
     "output_type": "execute_result",
     "data": {
      "text/plain": [
       "2⋅x"
      ],
      "text/latex": "$\\displaystyle 2 x$"
     },
     "metadata": {},
     "execution_count": 131
    }
   ],
   "source": [
    "expr1 = UnevaluatedExpr(x+x)\n",
    "expr1"
   ]
  },
  {
   "cell_type": "code",
   "execution_count": 133,
   "metadata": {},
   "outputs": [
    {
     "output_type": "execute_result",
     "data": {
      "text/plain": [
       "x + x"
      ],
      "text/latex": "$\\displaystyle x + x$"
     },
     "metadata": {},
     "execution_count": 133
    }
   ],
   "source": [
    "expr2 = sympify('x+x',evaluate = False)\n",
    "expr2"
   ]
  },
  {
   "cell_type": "code",
   "execution_count": 135,
   "metadata": {},
   "outputs": [
    {
     "output_type": "execute_result",
     "data": {
      "text/plain": [
       "y + x + x"
      ],
      "text/latex": "$\\displaystyle y + x + x$"
     },
     "metadata": {},
     "execution_count": 135
    }
   ],
   "source": [
    "UnevaluatedExpr(sympify(\"x+x\", evaluate =False)) + y"
   ]
  },
  {
   "cell_type": "code",
   "execution_count": 136,
   "metadata": {},
   "outputs": [
    {
     "output_type": "stream",
     "name": "stdout",
     "text": [
      "\\frac{5}{7} \\frac{3}{4}\n"
     ]
    }
   ],
   "source": [
    "from sympy import latex\n",
    "uexpr = UnevaluatedExpr(S.One*5/7)*UnevaluatedExpr(S.One*3/4)\n",
    "print(latex(uexpr))"
   ]
  },
  {
   "cell_type": "code",
   "execution_count": 137,
   "metadata": {},
   "outputs": [
    {
     "output_type": "stream",
     "name": "stdout",
     "text": [
      "\\frac{15}{28}\n"
     ]
    }
   ],
   "source": [
    "print(latex(uexpr.doit()))"
   ]
  },
  {
   "cell_type": "code",
   "execution_count": null,
   "metadata": {},
   "outputs": [],
   "source": []
  }
 ]
}