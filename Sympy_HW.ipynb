{
 "metadata": {
  "language_info": {
   "codemirror_mode": {
    "name": "ipython",
    "version": 3
   },
   "file_extension": ".py",
   "mimetype": "text/x-python",
   "name": "python",
   "nbconvert_exporter": "python",
   "pygments_lexer": "ipython3",
   "version": "3.7.7-final"
  },
  "orig_nbformat": 2,
  "kernelspec": {
   "name": "python3",
   "display_name": "Python 3.7.7 64-bit",
   "metadata": {
    "interpreter": {
     "hash": "3204e1ae5df78bbf005101dace15825dd77650469c97a81fae1298eb20fe914b"
    }
   }
  }
 },
 "nbformat": 4,
 "nbformat_minor": 2,
 "cells": [
  {
   "cell_type": "code",
   "execution_count": 1,
   "metadata": {},
   "outputs": [
    {
     "output_type": "stream",
     "name": "stdout",
     "text": [
      "Collecting sympy\n  Downloading sympy-1.7.1-py3-none-any.whl (5.9 MB)\nCollecting mpmath>=0.19\n  Downloading mpmath-1.2.1-py3-none-any.whl (532 kB)\nInstalling collected packages: mpmath, sympy\nSuccessfully installed mpmath-1.2.1 sympy-1.7.1\nNote: you may need to restart the kernel to use updated packages.\n"
     ]
    }
   ],
   "source": [
    "pip install sympy"
   ]
  },
  {
   "cell_type": "code",
   "execution_count": 2,
   "metadata": {},
   "outputs": [],
   "source": [
    "from sympy import *"
   ]
  },
  {
   "cell_type": "code",
   "execution_count": 3,
   "metadata": {},
   "outputs": [],
   "source": [
    "init_printing()"
   ]
  },
  {
   "cell_type": "code",
   "execution_count": 28,
   "metadata": {},
   "outputs": [
    {
     "output_type": "execute_result",
     "data": {
      "text/plain": [
       "⌠          \n",
       "⎮ log(x) dx\n",
       "⌡          "
      ],
      "image/png": "[encoded data removed]",
      "text/latex": "$\\displaystyle \\int \\log{\\left(x \\right)}\\, dx$"
     },
     "metadata": {},
     "execution_count": 28
    }
   ],
   "source": [
    "integ = Integral( log(x) )\n",
    "integ"
   ]
  },
  {
   "cell_type": "code",
   "execution_count": 29,
   "metadata": {},
   "outputs": [
    {
     "output_type": "execute_result",
     "data": {
      "text/plain": [
       "√π\n",
       "──\n",
       "2 "
      ],
      "image/png": "[encoded data removed]",
      "text/latex": "$\\displaystyle \\frac{\\sqrt{\\pi}}{2}$"
     },
     "metadata": {},
     "execution_count": 29
    }
   ],
   "source": [
    "integrate( exp(-x**2), (x,0,oo) )"
   ]
  },
  {
   "cell_type": "code",
   "execution_count": 30,
   "metadata": {},
   "outputs": [
    {
     "output_type": "execute_result",
     "data": {
      "text/plain": [
       "   2       \n",
       "  ∂  ⎛ x⋅y⎞\n",
       "─────⎝ℯ   ⎠\n",
       "∂y ∂x      "
      ],
      "image/png": "[encoded data removed]",
      "text/latex": "$\\displaystyle \\frac{\\partial^{2}}{\\partial y\\partial x} e^{x y}$"
     },
     "metadata": {},
     "execution_count": 30
    }
   ],
   "source": [
    "deriv = Derivative( exp(x*y), x, y )\n",
    "deriv"
   ]
  },
  {
   "cell_type": "code",
   "execution_count": 34,
   "metadata": {},
   "outputs": [
    {
     "output_type": "execute_result",
     "data": {
      "text/plain": [
       "∞  ∞                  \n",
       "⌠  ⌠                  \n",
       "⎮  ⎮      2    2      \n",
       "⎮  ⎮   - x  - y       \n",
       "⎮  ⎮  ℯ          dx dy\n",
       "⌡  ⌡                  \n",
       "-∞ -∞                 "
      ],
      "image/png": "[encoded data removed]",
      "text/latex": "$\\displaystyle \\int\\limits_{-\\infty}^{\\infty}\\int\\limits_{-\\infty}^{\\infty} e^{- x^{2} - y^{2}}\\, dx\\, dy$"
     },
     "metadata": {},
     "execution_count": 34
    }
   ],
   "source": [
    "integ = Integral( exp(-x**2-y**2), (x,-oo,oo), (y,-oo,oo))\n",
    "integ"
   ]
  },
  {
   "cell_type": "code",
   "execution_count": 35,
   "metadata": {},
   "outputs": [
    {
     "output_type": "execute_result",
     "data": {
      "text/plain": [
       "∞  ∞                      \n",
       "⌠  ⌠                      \n",
       "⎮  ⎮      2    2          \n",
       "⎮  ⎮   - x  - y           \n",
       "⎮  ⎮  ℯ          dx dy = π\n",
       "⌡  ⌡                      \n",
       "-∞ -∞                     "
      ],
      "image/png": "[encoded data removed]",
      "text/latex": "$\\displaystyle \\int\\limits_{-\\infty}^{\\infty}\\int\\limits_{-\\infty}^{\\infty} e^{- x^{2} - y^{2}}\\, dx\\, dy = \\pi$"
     },
     "metadata": {},
     "execution_count": 35
    }
   ],
   "source": [
    "Eq( integ, integ.doit() )"
   ]
  },
  {
   "cell_type": "code",
   "execution_count": 42,
   "metadata": {},
   "outputs": [
    {
     "output_type": "stream",
     "name": "stdout",
     "text": [
      " 3    4\ny  + y \n"
     ]
    }
   ],
   "source": [
    "y = symbols('y')\n",
    "init_printing(order='rev-lex')\n",
    "print(y**4 + y**3)"
   ]
  },
  {
   "cell_type": "code",
   "execution_count": 45,
   "metadata": {},
   "outputs": [
    {
     "output_type": "stream",
     "name": "stdout",
     "text": [
      " 2              2\ny  + 2⋅x⋅y + 2⋅x \n"
     ]
    }
   ],
   "source": [
    "x,y = symbols('x,y')\n",
    "a= 2*x**2 + 2*x*y + y**2\n",
    "pprint(a)"
   ]
  },
  {
   "cell_type": "code",
   "execution_count": 46,
   "metadata": {},
   "outputs": [
    {
     "output_type": "stream",
     "name": "stdout",
     "text": [
      "2*x**2 + 2*x*y + y**2\n"
     ]
    }
   ],
   "source": [
    "print(a)"
   ]
  },
  {
   "cell_type": "code",
   "execution_count": 48,
   "metadata": {},
   "outputs": [],
   "source": [
    "x, t,z,nu = symbols('x t z nu')"
   ]
  },
  {
   "cell_type": "code",
   "execution_count": 49,
   "metadata": {},
   "outputs": [
    {
     "output_type": "stream",
     "name": "stdout",
     "text": [
      " x           x       \nℯ ⋅cos(x) + ℯ ⋅sin(x)\n"
     ]
    }
   ],
   "source": [
    "init_printing(use_unicode=True)\n",
    "print(diff(sin(x)*exp(x),x))"
   ]
  },
  {
   "cell_type": "code",
   "execution_count": 54,
   "metadata": {},
   "outputs": [
    {
     "output_type": "stream",
     "name": "stdout",
     "text": [
      "∞            \n⌠            \n⎮     ⎛ 2⎞   \n⎮  sin⎝x ⎠ dx\n⌡            \n-∞           \n"
     ]
    }
   ],
   "source": [
    "pprint(Integral(sin(x**2),(x,-oo,oo)))"
   ]
  },
  {
   "cell_type": "code",
   "execution_count": 57,
   "metadata": {},
   "outputs": [
    {
     "output_type": "stream",
     "name": "stdout",
     "text": [
      "[-√2, √2]\n      2\n-2 + x \n"
     ]
    }
   ],
   "source": [
    "pprint(solve(x**2 -2,x))\n",
    "pprint(x**2 -2)"
   ]
  },
  {
   "cell_type": "code",
   "execution_count": 58,
   "metadata": {},
   "outputs": [
    {
     "output_type": "stream",
     "name": "stdout",
     "text": [
      "Add: x + y\n+-Symbol: x\n| commutative: True\n+-Symbol: y\n  commutative: True\n\n"
     ]
    }
   ],
   "source": [
    "from sympy import symbols, print_tree\n",
    "x,y = symbols('x,y')\n",
    "\n",
    "a = x+y\n",
    "\n",
    "print_tree(a)"
   ]
  },
  {
   "cell_type": "code",
   "execution_count": 59,
   "metadata": {},
   "outputs": [],
   "source": [
    "a = Integer(1)"
   ]
  },
  {
   "cell_type": "code",
   "execution_count": 60,
   "metadata": {},
   "outputs": [
    {
     "output_type": "stream",
     "name": "stdout",
     "text": [
      "1\n"
     ]
    }
   ],
   "source": [
    "print(a)"
   ]
  },
  {
   "cell_type": "code",
   "execution_count": 61,
   "metadata": {},
   "outputs": [
    {
     "output_type": "stream",
     "name": "stdout",
     "text": [
      "1\n"
     ]
    }
   ],
   "source": [
    "print(a.p)"
   ]
  },
  {
   "cell_type": "code",
   "execution_count": 63,
   "metadata": {},
   "outputs": [
    {
     "output_type": "stream",
     "name": "stdout",
     "text": [
      "1\n"
     ]
    }
   ],
   "source": [
    "print(a.q)"
   ]
  },
  {
   "cell_type": "code",
   "execution_count": 65,
   "metadata": {},
   "outputs": [
    {
     "output_type": "stream",
     "name": "stdout",
     "text": [
      "10\n10 1\n"
     ]
    }
   ],
   "source": [
    "b = Integer(\"10\")\n",
    "print(b)\n",
    "print(b.p, b.q)\n"
   ]
  },
  {
   "cell_type": "code",
   "execution_count": 68,
   "metadata": {
    "tags": []
   },
   "outputs": [
    {
     "output_type": "stream",
     "name": "stdout",
     "text": [
      "Help on int object:\n\nclass int(object)\n |  int([x]) -> integer\n |  int(x, base=10) -> integer\n |  \n |  Convert a number or string to an integer, or return 0 if no arguments\n |  are given.  If x is a number, return x.__int__().  For floating point\n |  numbers, this truncates towards zero.\n |  \n |  If x is not a number or if base is given, then x must be a string,\n |  bytes, or bytearray instance representing an integer literal in the\n |  given base.  The literal can be preceded by '+' or '-' and be surrounded\n |  by whitespace.  The base defaults to 10.  Valid bases are 0 and 2-36.\n |  Base 0 means to interpret the base from the string as an integer literal.\n |  >>> int('0b100', base=0)\n |  4\n |  \n |  Methods defined here:\n |  \n |  __abs__(self, /)\n |      abs(self)\n |  \n |  __add__(self, value, /)\n |      Return self+value.\n |  \n |  __and__(self, value, /)\n |      Return self&value.\n |  \n |  __bool__(self, /)\n |      self != 0\n |  \n |  __ceil__(...)\n |      Ceiling of an Integral returns itself.\n |  \n |  __divmod__(self, value, /)\n |      Return divmod(self, value).\n |  \n |  __eq__(self, value, /)\n |      Return self==value.\n |  \n |  __float__(self, /)\n |      float(self)\n |  \n |  __floor__(...)\n |      Flooring an Integral returns itself.\n |  \n |  __floordiv__(self, value, /)\n |      Return self//value.\n |  \n |  __format__(self, format_spec, /)\n |      Default object formatter.\n |  \n |  __ge__(self, value, /)\n |      Return self>=value.\n |  \n |  __getattribute__(self, name, /)\n |      Return getattr(self, name).\n |  \n |  __getnewargs__(self, /)\n |  \n |  __gt__(self, value, /)\n |      Return self>value.\n |  \n |  __hash__(self, /)\n |      Return hash(self).\n |  \n |  __index__(self, /)\n |      Return self converted to an integer, if self is suitable for use as an index into a list.\n |  \n |  __int__(self, /)\n |      int(self)\n |  \n |  __invert__(self, /)\n |      ~self\n |  \n |  __le__(self, value, /)\n |      Return self<=value.\n |  \n |  __lshift__(self, value, /)\n |      Return self<<value.\n |  \n |  __lt__(self, value, /)\n |      Return self<value.\n |  \n |  __mod__(self, value, /)\n |      Return self%value.\n |  \n |  __mul__(self, value, /)\n |      Return self*value.\n |  \n |  __ne__(self, value, /)\n |      Return self!=value.\n |  \n |  __neg__(self, /)\n |      -self\n |  \n |  __or__(self, value, /)\n |      Return self|value.\n |  \n |  __pos__(self, /)\n |      +self\n |  \n |  __pow__(self, value, mod=None, /)\n |      Return pow(self, value, mod).\n |  \n |  __radd__(self, value, /)\n |      Return value+self.\n |  \n |  __rand__(self, value, /)\n |      Return value&self.\n |  \n |  __rdivmod__(self, value, /)\n |      Return divmod(value, self).\n |  \n |  __repr__(self, /)\n |      Return repr(self).\n |  \n |  __rfloordiv__(self, value, /)\n |      Return value//self.\n |  \n |  __rlshift__(self, value, /)\n |      Return value<<self.\n |  \n |  __rmod__(self, value, /)\n |      Return value%self.\n |  \n |  __rmul__(self, value, /)\n |      Return value*self.\n |  \n |  __ror__(self, value, /)\n |      Return value|self.\n |  \n |  __round__(...)\n |      Rounding an Integral returns itself.\n |      Rounding with an ndigits argument also returns an integer.\n |  \n |  __rpow__(self, value, mod=None, /)\n |      Return pow(value, self, mod).\n |  \n |  __rrshift__(self, value, /)\n |      Return value>>self.\n |  \n |  __rshift__(self, value, /)\n |      Return self>>value.\n |  \n |  __rsub__(self, value, /)\n |      Return value-self.\n |  \n |  __rtruediv__(self, value, /)\n |      Return value/self.\n |  \n |  __rxor__(self, value, /)\n |      Return value^self.\n |  \n |  __sizeof__(self, /)\n |      Returns size in memory, in bytes.\n |  \n |  __str__(self, /)\n |      Return str(self).\n |  \n |  __sub__(self, value, /)\n |      Return self-value.\n |  \n |  __truediv__(self, value, /)\n |      Return self/value.\n |  \n |  __trunc__(...)\n |      Truncating an Integral returns itself.\n |  \n |  __xor__(self, value, /)\n |      Return self^value.\n |  \n |  bit_length(self, /)\n |      Number of bits necessary to represent self in binary.\n |      \n |      >>> bin(37)\n |      '0b100101'\n |      >>> (37).bit_length()\n |      6\n |  \n |  conjugate(...)\n |      Returns self, the complex conjugate of any int.\n |  \n |  to_bytes(self, /, length, byteorder, *, signed=False)\n |      Return an array of bytes representing an integer.\n |      \n |      length\n |        Length of bytes object to use.  An OverflowError is raised if the\n |        integer is not representable with the given number of bytes.\n |      byteorder\n |        The byte order used to represent the integer.  If byteorder is 'big',\n |        the most significant byte is at the beginning of the byte array.  If\n |        byteorder is 'little', the most significant byte is at the end of the\n |        byte array.  To request the native byte order of the host system, use\n |        `sys.byteorder' as the byte order value.\n |      signed\n |        Determines whether two's complement is used to represent the integer.\n |        If signed is False and a negative integer is given, an OverflowError\n |        is raised.\n |  \n |  ----------------------------------------------------------------------\n |  Class methods defined here:\n |  \n |  from_bytes(bytes, byteorder, *, signed=False) from builtins.type\n |      Return the integer represented by the given array of bytes.\n |      \n |      bytes\n |        Holds the array of bytes to convert.  The argument must either\n |        support the buffer protocol or be an iterable object producing bytes.\n |        Bytes and bytearray are examples of built-in objects that support the\n |        buffer protocol.\n |      byteorder\n |        The byte order used to represent the integer.  If byteorder is 'big',\n |        the most significant byte is at the beginning of the byte array.  If\n |        byteorder is 'little', the most significant byte is at the end of the\n |        byte array.  To request the native byte order of the host system, use\n |        `sys.byteorder' as the byte order value.\n |      signed\n |        Indicates whether two's complement is used to represent the integer.\n |  \n |  ----------------------------------------------------------------------\n |  Static methods defined here:\n |  \n |  __new__(*args, **kwargs) from builtins.type\n |      Create and return a new object.  See help(type) for accurate signature.\n |  \n |  ----------------------------------------------------------------------\n |  Data descriptors defined here:\n |  \n |  denominator\n |      the denominator of a rational number in lowest terms\n |  \n |  imag\n |      the imaginary part of a complex number\n |  \n |  numerator\n |      the numerator of a rational number in lowest terms\n |  \n |  real\n |      the real part of a complex number\n\n"
     ]
    }
   ],
   "source": [
    "help(b.p)"
   ]
  },
  {
   "cell_type": "code",
   "execution_count": 69,
   "metadata": {},
   "outputs": [],
   "source": [
    "x, n= symbols('x ,n')"
   ]
  },
  {
   "cell_type": "code",
   "execution_count": 71,
   "metadata": {},
   "outputs": [
    {
     "output_type": "stream",
     "name": "stdout",
     "text": [
      "10\n"
     ]
    }
   ],
   "source": [
    "x = Integer(10.5)\n",
    "print(x)"
   ]
  },
  {
   "cell_type": "code",
   "execution_count": 72,
   "metadata": {},
   "outputs": [
    {
     "output_type": "stream",
     "name": "stdout",
     "text": [
      "True\n"
     ]
    }
   ],
   "source": [
    "print(x ==10)"
   ]
  },
  {
   "cell_type": "code",
   "execution_count": 74,
   "metadata": {},
   "outputs": [
    {
     "output_type": "stream",
     "name": "stdout",
     "text": [
      "False\n"
     ]
    }
   ],
   "source": [
    "print(x is 10)"
   ]
  },
  {
   "cell_type": "code",
   "execution_count": 75,
   "metadata": {},
   "outputs": [
    {
     "output_type": "stream",
     "name": "stdout",
     "text": [
      "1\n2\n"
     ]
    }
   ],
   "source": [
    "a = Rational(1,2)\n",
    "print(a.p)\n",
    "print(a.q)"
   ]
  },
  {
   "cell_type": "code",
   "execution_count": 77,
   "metadata": {},
   "outputs": [],
   "source": [
    "b = Rational(\".1\")"
   ]
  },
  {
   "cell_type": "code",
   "execution_count": 78,
   "metadata": {},
   "outputs": [
    {
     "output_type": "stream",
     "name": "stdout",
     "text": [
      "1\n"
     ]
    }
   ],
   "source": [
    "print(b.p)"
   ]
  },
  {
   "cell_type": "code",
   "execution_count": 79,
   "metadata": {},
   "outputs": [
    {
     "output_type": "stream",
     "name": "stdout",
     "text": [
      "10\n"
     ]
    }
   ],
   "source": [
    "print(b.q)"
   ]
  },
  {
   "cell_type": "code",
   "execution_count": 80,
   "metadata": {},
   "outputs": [
    {
     "output_type": "stream",
     "name": "stdout",
     "text": [
      "1/10\n1 10\n"
     ]
    }
   ],
   "source": [
    "c = Rational(1,3)\n",
    "print(b)\n",
    "print(b.p, b.q)"
   ]
  },
  {
   "cell_type": "code",
   "execution_count": 81,
   "metadata": {},
   "outputs": [
    {
     "output_type": "stream",
     "name": "stdout",
     "text": [
      "0.3333333333\n"
     ]
    }
   ],
   "source": [
    "print(c.evalf(10))"
   ]
  },
  {
   "cell_type": "code",
   "execution_count": 82,
   "metadata": {},
   "outputs": [
    {
     "output_type": "stream",
     "name": "stdout",
     "text": [
      "0.3333333333\n"
     ]
    }
   ],
   "source": [
    "print(c.evalf(10))"
   ]
  },
  {
   "cell_type": "code",
   "execution_count": 83,
   "metadata": {},
   "outputs": [
    {
     "output_type": "stream",
     "name": "stdout",
     "text": [
      "1.0\n"
     ]
    }
   ],
   "source": [
    "a = Float(1,2)\n",
    "print(a)"
   ]
  },
  {
   "cell_type": "code",
   "execution_count": 84,
   "metadata": {},
   "outputs": [],
   "source": [
    "b = Float(\".1\")"
   ]
  },
  {
   "cell_type": "code",
   "execution_count": 85,
   "metadata": {},
   "outputs": [
    {
     "output_type": "stream",
     "name": "stdout",
     "text": [
      "0.100000000000000\n"
     ]
    }
   ],
   "source": [
    "print(b)"
   ]
  },
  {
   "cell_type": "code",
   "execution_count": 86,
   "metadata": {},
   "outputs": [
    {
     "output_type": "stream",
     "name": "stdout",
     "text": [
      "0.100000000000000\n"
     ]
    }
   ],
   "source": [
    "pprint(b)"
   ]
  },
  {
   "cell_type": "code",
   "execution_count": 88,
   "metadata": {},
   "outputs": [],
   "source": [
    "c = Float(1/3)"
   ]
  },
  {
   "cell_type": "code",
   "execution_count": 89,
   "metadata": {},
   "outputs": [
    {
     "output_type": "stream",
     "name": "stdout",
     "text": [
      "0.333333333333333\n"
     ]
    }
   ],
   "source": [
    "print(c)"
   ]
  },
  {
   "cell_type": "code",
   "execution_count": 90,
   "metadata": {},
   "outputs": [
    {
     "output_type": "stream",
     "name": "stdout",
     "text": [
      "0.3333333333\n"
     ]
    }
   ],
   "source": [
    "print(c.evalf(10))"
   ]
  },
  {
   "cell_type": "code",
   "execution_count": 91,
   "metadata": {},
   "outputs": [
    {
     "output_type": "stream",
     "name": "stdout",
     "text": [
      "10.5000000000000 <class 'sympy.core.numbers.Float'>\n"
     ]
    }
   ],
   "source": [
    "x, n = symbols('x, n')\n",
    "x = Float(10.5)\n",
    "print(x, type(x))"
   ]
  },
  {
   "cell_type": "code",
   "execution_count": 92,
   "metadata": {},
   "outputs": [],
   "source": [
    "x = symbols('x')"
   ]
  },
  {
   "cell_type": "code",
   "execution_count": 93,
   "metadata": {},
   "outputs": [
    {
     "output_type": "stream",
     "name": "stdout",
     "text": [
      "x <class 'sympy.core.symbol.Symbol'>\n"
     ]
    }
   ],
   "source": [
    "print(x, type(x))"
   ]
  },
  {
   "cell_type": "code",
   "execution_count": 94,
   "metadata": {},
   "outputs": [],
   "source": [
    "x = Float(10.5)"
   ]
  },
  {
   "cell_type": "code",
   "execution_count": 95,
   "metadata": {},
   "outputs": [
    {
     "output_type": "stream",
     "name": "stdout",
     "text": [
      "<class 'sympy.core.numbers.Float'>\n"
     ]
    }
   ],
   "source": [
    "print(type(x))"
   ]
  },
  {
   "cell_type": "code",
   "execution_count": 96,
   "metadata": {},
   "outputs": [
    {
     "output_type": "stream",
     "name": "stdout",
     "text": [
      "True\n"
     ]
    }
   ],
   "source": [
    "print(x == 10.5)"
   ]
  },
  {
   "cell_type": "code",
   "execution_count": 98,
   "metadata": {},
   "outputs": [
    {
     "output_type": "stream",
     "name": "stdout",
     "text": [
      "False\n"
     ]
    }
   ],
   "source": [
    "print(x is 10.5)"
   ]
  },
  {
   "cell_type": "code",
   "execution_count": 99,
   "metadata": {},
   "outputs": [],
   "source": [
    "r = sympify(111/333)"
   ]
  },
  {
   "cell_type": "code",
   "execution_count": 100,
   "metadata": {},
   "outputs": [
    {
     "output_type": "stream",
     "name": "stdout",
     "text": [
      "0.333333333333333 <class 'sympy.core.numbers.Float'>\n"
     ]
    }
   ],
   "source": [
    "print(r,type(r))"
   ]
  },
  {
   "cell_type": "code",
   "execution_count": 104,
   "metadata": {},
   "outputs": [
    {
     "output_type": "stream",
     "name": "stdout",
     "text": [
      "integer True\nreal True\nreal True\nreal True\nreal False\n"
     ]
    }
   ],
   "source": [
    "print(\"integer\", sympify(2).is_integer)\n",
    "print(\"real\", sympify(2).is_real)\n",
    "print(\"real\", sympify(2.0).is_real)\n",
    "print(\"real\", sympify('2.0').is_real)\n",
    "print(\"real\", sympify(pi).is_integer)"
   ]
  },
  {
   "cell_type": "code",
   "execution_count": 105,
   "metadata": {},
   "outputs": [
    {
     "output_type": "stream",
     "name": "stdout",
     "text": [
      "1 + 10*I\n"
     ]
    }
   ],
   "source": [
    "x, n = symbols('x,n')\n",
    "print((x*I + 1).subs({x:10}))"
   ]
  },
  {
   "cell_type": "code",
   "execution_count": 106,
   "metadata": {},
   "outputs": [
    {
     "output_type": "stream",
     "name": "stdout",
     "text": [
      "(1+10j)\n"
     ]
    }
   ],
   "source": [
    "print(complex(1,10))"
   ]
  },
  {
   "cell_type": "code",
   "execution_count": 108,
   "metadata": {},
   "outputs": [
    {
     "output_type": "stream",
     "name": "stdout",
     "text": [
      "False\n"
     ]
    }
   ],
   "source": [
    "print(complex(1,10) == (x*I + 1).subs({x:10}))"
   ]
  },
  {
   "cell_type": "code",
   "execution_count": 110,
   "metadata": {},
   "outputs": [
    {
     "output_type": "stream",
     "name": "stdout",
     "text": [
      "pi\n"
     ]
    }
   ],
   "source": [
    "from sympy import *\n",
    "print(pi)"
   ]
  },
  {
   "cell_type": "code",
   "execution_count": 111,
   "metadata": {},
   "outputs": [
    {
     "output_type": "stream",
     "name": "stdout",
     "text": [
      "pi**2\n"
     ]
    }
   ],
   "source": [
    "print(pi**2)"
   ]
  },
  {
   "cell_type": "code",
   "execution_count": 113,
   "metadata": {},
   "outputs": [
    {
     "output_type": "stream",
     "name": "stdout",
     "text": [
      " 2\nπ \n"
     ]
    }
   ],
   "source": [
    "pprint(pi**2)"
   ]
  },
  {
   "cell_type": "code",
   "execution_count": 114,
   "metadata": {},
   "outputs": [
    {
     "output_type": "stream",
     "name": "stdout",
     "text": [
      "3.14159265358979\n"
     ]
    }
   ],
   "source": [
    "print(pi.evalf())"
   ]
  },
  {
   "cell_type": "code",
   "execution_count": 115,
   "metadata": {},
   "outputs": [
    {
     "output_type": "stream",
     "name": "stdout",
     "text": [
      "3.14159265358979\n"
     ]
    }
   ],
   "source": [
    "pprint(pi.evalf())"
   ]
  },
  {
   "cell_type": "code",
   "execution_count": 116,
   "metadata": {},
   "outputs": [
    {
     "output_type": "stream",
     "name": "stdout",
     "text": [
      "False\n"
     ]
    }
   ],
   "source": [
    "print(oo < 1e8)"
   ]
  },
  {
   "cell_type": "code",
   "execution_count": 117,
   "metadata": {},
   "outputs": [
    {
     "output_type": "stream",
     "name": "stdout",
     "text": [
      "oo\n"
     ]
    }
   ],
   "source": [
    "print( oo +1)"
   ]
  },
  {
   "cell_type": "code",
   "execution_count": 119,
   "metadata": {},
   "outputs": [
    {
     "output_type": "stream",
     "name": "stdout",
     "text": [
      "<class 'sympy.core.symbol.Symbol'>\n<class 'sympy.core.symbol.Symbol'>\n"
     ]
    }
   ],
   "source": [
    "from sympy import *\n",
    "x = symbols('x')\n",
    "print(type(x))\n",
    "from sympy import *\n",
    "x = Symbol('x')\n",
    "print(type(x))"
   ]
  },
  {
   "cell_type": "code",
   "execution_count": 120,
   "metadata": {},
   "outputs": [
    {
     "output_type": "stream",
     "name": "stdout",
     "text": [
      "sqrt(3)\n1.73205080756888\n"
     ]
    }
   ],
   "source": [
    "print(sqrt(3))\n",
    "print(sqrt(3).evalf())"
   ]
  },
  {
   "cell_type": "code",
   "execution_count": 121,
   "metadata": {},
   "outputs": [
    {
     "output_type": "stream",
     "name": "stdout",
     "text": [
      "2*sqrt(2)\n"
     ]
    }
   ],
   "source": [
    "print(sqrt(8))"
   ]
  },
  {
   "cell_type": "code",
   "execution_count": 122,
   "metadata": {},
   "outputs": [
    {
     "output_type": "stream",
     "name": "stdout",
     "text": [
      "2.82842712474619\n"
     ]
    }
   ],
   "source": [
    "print(sqrt(8).evalf())"
   ]
  },
  {
   "cell_type": "code",
   "execution_count": 123,
   "metadata": {},
   "outputs": [
    {
     "output_type": "stream",
     "name": "stdout",
     "text": [
      "(1 - I)/2\n"
     ]
    }
   ],
   "source": [
    "print(radsimp(1/(I + 1)))"
   ]
  },
  {
   "cell_type": "code",
   "execution_count": 125,
   "metadata": {},
   "outputs": [
    {
     "output_type": "stream",
     "name": "stdout",
     "text": [
      "Help on function radsimp in module sympy.simplify.radsimp:\n\nradsimp(expr, symbolic=True, max_terms=4)\n    Rationalize the denominator by removing square roots.\n    \n    Note: the expression returned from radsimp must be used with caution\n    since if the denominator contains symbols, it will be possible to make\n    substitutions that violate the assumptions of the simplification process:\n    that for a denominator matching a + b*sqrt(c), a != +/-b*sqrt(c). (If\n    there are no symbols, this assumptions is made valid by collecting terms\n    of sqrt(c) so the match variable ``a`` does not contain ``sqrt(c)``.) If\n    you do not want the simplification to occur for symbolic denominators, set\n    ``symbolic`` to False.\n    \n    If there are more than ``max_terms`` radical terms then the expression is\n    returned unchanged.\n    \n    Examples\n    ========\n    \n    >>> from sympy import radsimp, sqrt, Symbol, pprint\n    >>> from sympy import factor_terms, fraction, signsimp\n    >>> from sympy.simplify.radsimp import collect_sqrt\n    >>> from sympy.abc import a, b, c\n    \n    >>> radsimp(1/(2 + sqrt(2)))\n    (2 - sqrt(2))/2\n    >>> x,y = map(Symbol, 'xy')\n    >>> e = ((2 + 2*sqrt(2))*x + (2 + sqrt(8))*y)/(2 + sqrt(2))\n    >>> radsimp(e)\n    sqrt(2)*(x + y)\n    \n    No simplification beyond removal of the gcd is done. One might\n    want to polish the result a little, however, by collecting\n    square root terms:\n    \n    >>> r2 = sqrt(2)\n    >>> r5 = sqrt(5)\n    >>> ans = radsimp(1/(y*r2 + x*r2 + a*r5 + b*r5)); pprint(ans)\n        ___       ___       ___       ___\n      \\/ 5 *a + \\/ 5 *b - \\/ 2 *x - \\/ 2 *y\n    ------------------------------------------\n       2               2      2              2\n    5*a  + 10*a*b + 5*b  - 2*x  - 4*x*y - 2*y\n    \n    >>> n, d = fraction(ans)\n    >>> pprint(factor_terms(signsimp(collect_sqrt(n))/d, radical=True))\n            ___             ___\n          \\/ 5 *(a + b) - \\/ 2 *(x + y)\n    ------------------------------------------\n       2               2      2              2\n    5*a  + 10*a*b + 5*b  - 2*x  - 4*x*y - 2*y\n    \n    If radicals in the denominator cannot be removed or there is no denominator,\n    the original expression will be returned.\n    \n    >>> radsimp(sqrt(2)*x + sqrt(2))\n    sqrt(2)*x + sqrt(2)\n    \n    Results with symbols will not always be valid for all substitutions:\n    \n    >>> eq = 1/(a + b*sqrt(c))\n    >>> eq.subs(a, b*sqrt(c))\n    1/(2*b*sqrt(c))\n    >>> radsimp(eq).subs(a, b*sqrt(c))\n    nan\n    \n    If symbolic=False, symbolic denominators will not be transformed (but\n    numeric denominators will still be processed):\n    \n    >>> radsimp(eq, symbolic=False)\n    1/(a + b*sqrt(c))\n\n"
     ]
    }
   ],
   "source": [
    "help(radsimp)"
   ]
  },
  {
   "cell_type": "code",
   "execution_count": 128,
   "metadata": {},
   "outputs": [
    {
     "output_type": "stream",
     "name": "stdout",
     "text": [
      "1/2 - I/2\n"
     ]
    }
   ],
   "source": [
    "print(simplify((I-1)/((I+1)*(I-1))))"
   ]
  },
  {
   "cell_type": "code",
   "execution_count": 129,
   "metadata": {},
   "outputs": [
    {
     "output_type": "stream",
     "name": "stdout",
     "text": [
      "(2 - sqrt(2))/2\n"
     ]
    }
   ],
   "source": [
    "print(radsimp(1/(2+sqrt(2))))"
   ]
  },
  {
   "cell_type": "code",
   "execution_count": 130,
   "metadata": {},
   "outputs": [],
   "source": [
    "x = symbols('x')"
   ]
  },
  {
   "cell_type": "code",
   "execution_count": 131,
   "metadata": {},
   "outputs": [],
   "source": [
    "a = sqrt(x)"
   ]
  },
  {
   "cell_type": "code",
   "execution_count": 132,
   "metadata": {},
   "outputs": [
    {
     "output_type": "stream",
     "name": "stdout",
     "text": [
      "sqrt(x)\n"
     ]
    }
   ],
   "source": [
    "print(a)"
   ]
  },
  {
   "cell_type": "code",
   "execution_count": 133,
   "metadata": {},
   "outputs": [
    {
     "output_type": "stream",
     "name": "stdout",
     "text": [
      "x**0.5\n"
     ]
    }
   ],
   "source": [
    "print(a.evalf())"
   ]
  },
  {
   "cell_type": "code",
   "execution_count": 134,
   "metadata": {},
   "outputs": [],
   "source": [
    "x = Float(10.5)"
   ]
  },
  {
   "cell_type": "code",
   "execution_count": 135,
   "metadata": {},
   "outputs": [
    {
     "output_type": "stream",
     "name": "stdout",
     "text": [
      "10.\n"
     ]
    }
   ],
   "source": [
    "print(x.evalf(1))"
   ]
  },
  {
   "cell_type": "code",
   "execution_count": 136,
   "metadata": {},
   "outputs": [
    {
     "output_type": "stream",
     "name": "stdout",
     "text": [
      "11.\n"
     ]
    }
   ],
   "source": [
    "print(x.evalf(2))"
   ]
  },
  {
   "cell_type": "code",
   "execution_count": 137,
   "metadata": {},
   "outputs": [
    {
     "output_type": "stream",
     "name": "stdout",
     "text": [
      "10.5\n"
     ]
    }
   ],
   "source": [
    "print(x.evalf(3))"
   ]
  },
  {
   "cell_type": "code",
   "execution_count": 139,
   "metadata": {},
   "outputs": [
    {
     "output_type": "stream",
     "name": "stdout",
     "text": [
      "x + 1 <class 'sympy.core.add.Add'>\n"
     ]
    }
   ],
   "source": [
    "x = symbols('x')\n",
    "expr = x+1\n",
    "print(expr, type(expr))"
   ]
  },
  {
   "cell_type": "code",
   "execution_count": 140,
   "metadata": {},
   "outputs": [
    {
     "output_type": "stream",
     "name": "stdout",
     "text": [
      "3\n"
     ]
    }
   ],
   "source": [
    "print(expr.subs(x,2))"
   ]
  },
  {
   "cell_type": "code",
   "execution_count": 142,
   "metadata": {},
   "outputs": [
    {
     "output_type": "stream",
     "name": "stdout",
     "text": [
      "3.00000000000000\n"
     ]
    }
   ],
   "source": [
    "print(expr.evalf(subs={x:2}))"
   ]
  },
  {
   "cell_type": "code",
   "execution_count": 144,
   "metadata": {},
   "outputs": [
    {
     "output_type": "stream",
     "name": "stdout",
     "text": [
      "4\n"
     ]
    }
   ],
   "source": [
    "print(expr.subs(x,3))"
   ]
  },
  {
   "cell_type": "code",
   "execution_count": 145,
   "metadata": {},
   "outputs": [
    {
     "output_type": "stream",
     "name": "stdout",
     "text": [
      "5\n"
     ]
    }
   ],
   "source": [
    "print(expr.replace(x,4))"
   ]
  },
  {
   "cell_type": "code",
   "execution_count": 146,
   "metadata": {},
   "outputs": [],
   "source": [
    "x = symbols('x')"
   ]
  },
  {
   "cell_type": "code",
   "execution_count": 147,
   "metadata": {},
   "outputs": [
    {
     "output_type": "stream",
     "name": "stdout",
     "text": [
      "x - 1 <class 'sympy.core.add.Add'>\n1\n"
     ]
    }
   ],
   "source": [
    "expr = x -1\n",
    "print(expr, type(expr))\n",
    "print(expr.subs(x,2))"
   ]
  },
  {
   "cell_type": "code",
   "execution_count": 148,
   "metadata": {},
   "outputs": [
    {
     "output_type": "stream",
     "name": "stdout",
     "text": [
      "2.00000000000000\n3\n"
     ]
    }
   ],
   "source": [
    "print(expr.evalf(subs ={x:3}))\n",
    "print(expr.replace(x,4))"
   ]
  },
  {
   "cell_type": "code",
   "execution_count": 149,
   "metadata": {},
   "outputs": [],
   "source": [
    "from sympy import Add, symbols\n",
    "x,y = symbols(\"x,y\")"
   ]
  },
  {
   "cell_type": "code",
   "execution_count": 159,
   "metadata": {},
   "outputs": [
    {
     "output_type": "stream",
     "name": "stdout",
     "text": [
      "x + y + 15\n"
     ]
    }
   ],
   "source": [
    "a = Add(x,y,5,10)\n",
    "print(a)"
   ]
  },
  {
   "cell_type": "code",
   "execution_count": 160,
   "metadata": {},
   "outputs": [
    {
     "output_type": "stream",
     "name": "stdout",
     "text": [
      "(15, (x, y))\n"
     ]
    }
   ],
   "source": [
    "print(a.as_coeff_add())"
   ]
  },
  {
   "cell_type": "code",
   "execution_count": 161,
   "metadata": {},
   "outputs": [
    {
     "output_type": "stream",
     "name": "stdout",
     "text": [
      "Help on method as_coeff_add in module sympy.core.add:\n\nas_coeff_add(*deps) method of sympy.core.add.Add instance\n    Returns a tuple (coeff, args) where self is treated as an Add and coeff\n    is the Number term and args is a tuple of all other terms.\n    \n    Examples\n    ========\n    \n    >>> from sympy.abc import x\n    >>> (7 + 3*x).as_coeff_add()\n    (7, (3*x,))\n    >>> (7*x).as_coeff_add()\n    (0, (7*x,))\n\n"
     ]
    }
   ],
   "source": [
    "help(a.as_coeff_add)"
   ]
  },
  {
   "cell_type": "code",
   "execution_count": 156,
   "metadata": {},
   "outputs": [],
   "source": [
    "b = x+y+10"
   ]
  },
  {
   "cell_type": "code",
   "execution_count": 157,
   "metadata": {},
   "outputs": [
    {
     "output_type": "stream",
     "name": "stdout",
     "text": [
      "True\n<class 'sympy.core.add.Add'>\n"
     ]
    }
   ],
   "source": [
    "print(b == a)\n",
    "print(type(b))"
   ]
  },
  {
   "cell_type": "code",
   "execution_count": 162,
   "metadata": {},
   "outputs": [
    {
     "output_type": "stream",
     "name": "stdout",
     "text": [
      "x + y\nx - y\n"
     ]
    }
   ],
   "source": [
    "from sympy import Add, symbols\n",
    "x,y = symbols('x,y')\n",
    "print(Add(x,y))\n",
    "print(Add(x,-1*y))"
   ]
  },
  {
   "cell_type": "code",
   "execution_count": 163,
   "metadata": {},
   "outputs": [
    {
     "output_type": "stream",
     "name": "stdout",
     "text": [
      "-1\n"
     ]
    }
   ],
   "source": [
    "print(-1)"
   ]
  },
  {
   "cell_type": "code",
   "execution_count": 168,
   "metadata": {},
   "outputs": [
    {
     "output_type": "execute_result",
     "data": {
      "text/plain": [
       "['__abs__',\n",
       " '__add__',\n",
       " '__class__',\n",
       " '__complex__',\n",
       " '__delattr__',\n",
       " '__dir__',\n",
       " '__divmod__',\n",
       " '__doc__',\n",
       " '__eq__',\n",
       " '__float__',\n",
       " '__floordiv__',\n",
       " '__format__',\n",
       " '__ge__',\n",
       " '__getattribute__',\n",
       " '__getnewargs__',\n",
       " '__getstate__',\n",
       " '__gt__',\n",
       " '__hash__',\n",
       " '__init__',\n",
       " '__init_subclass__',\n",
       " '__int__',\n",
       " '__le__',\n",
       " '__lt__',\n",
       " '__mod__',\n",
       " '__module__',\n",
       " '__mul__',\n",
       " '__ne__',\n",
       " '__neg__',\n",
       " '__new__',\n",
       " '__pos__',\n",
       " '__pow__',\n",
       " '__radd__',\n",
       " '__rdivmod__',\n",
       " '__reduce__',\n",
       " '__reduce_ex__',\n",
       " '__repr__',\n",
       " '__rfloordiv__',\n",
       " '__rmod__',\n",
       " '__rmul__',\n",
       " '__round__',\n",
       " '__rpow__',\n",
       " '__rsub__',\n",
       " '__rtruediv__',\n",
       " '__setattr__',\n",
       " '__setstate__',\n",
       " '__sizeof__',\n",
       " '__slots__',\n",
       " '__str__',\n",
       " '__sub__',\n",
       " '__subclasshook__',\n",
       " '__sympy__',\n",
       " '__truediv__',\n",
       " '__trunc__',\n",
       " '_add_handler',\n",
       " '_args',\n",
       " '_args_type',\n",
       " '_assumptions',\n",
       " '_combine_inverse',\n",
       " '_compare_pretty',\n",
       " '_constructor_postprocessor_mapping',\n",
       " '_diff_wrt',\n",
       " '_eval_adjoint',\n",
       " '_eval_as_leading_term',\n",
       " '_eval_conjugate',\n",
       " '_eval_derivative',\n",
       " '_eval_derivative_matrix_lines',\n",
       " '_eval_derivative_n_times',\n",
       " '_eval_difference_delta',\n",
       " '_eval_evalf',\n",
       " '_eval_expand_complex',\n",
       " '_eval_expand_mul',\n",
       " '_eval_herm_antiherm',\n",
       " '_eval_interval',\n",
       " '_eval_is_algebraic',\n",
       " '_eval_is_algebraic_expr',\n",
       " '_eval_is_antihermitian',\n",
       " '_eval_is_commutative',\n",
       " '_eval_is_complex',\n",
       " '_eval_is_composite',\n",
       " '_eval_is_even',\n",
       " '_eval_is_extended_negative',\n",
       " '_eval_is_extended_positive',\n",
       " '_eval_is_extended_positive_negative',\n",
       " '_eval_is_extended_real',\n",
       " '_eval_is_finite',\n",
       " '_eval_is_hermitian',\n",
       " '_eval_is_imaginary',\n",
       " '_eval_is_infinite',\n",
       " '_eval_is_integer',\n",
       " '_eval_is_irrational',\n",
       " '_eval_is_meromorphic',\n",
       " '_eval_is_negative',\n",
       " '_eval_is_odd',\n",
       " '_eval_is_polar',\n",
       " '_eval_is_polynomial',\n",
       " '_eval_is_positive',\n",
       " '_eval_is_rational',\n",
       " '_eval_is_rational_function',\n",
       " '_eval_is_zero',\n",
       " '_eval_lseries',\n",
       " '_eval_nseries',\n",
       " '_eval_pos_neg',\n",
       " '_eval_power',\n",
       " '_eval_real_imag',\n",
       " '_eval_rewrite',\n",
       " '_eval_subs',\n",
       " '_eval_transpose',\n",
       " '_evalf',\n",
       " '_exec_constructor_postprocessors',\n",
       " '_expand_hint',\n",
       " '_expandsums',\n",
       " '_explicit_class_assumptions',\n",
       " '_from_args',\n",
       " '_from_mpmath',\n",
       " '_has',\n",
       " '_has_matcher',\n",
       " '_hashable_content',\n",
       " '_matches_add_wildcard',\n",
       " '_matches_commutative',\n",
       " '_matches_expand_pows',\n",
       " '_matches_get_other_nodes',\n",
       " '_matches_match_wilds',\n",
       " '_matches_new_states',\n",
       " '_matches_noncomm',\n",
       " '_matches_simple',\n",
       " '_mhash',\n",
       " '_mpc_',\n",
       " '_mul_handler',\n",
       " '_new_rawargs',\n",
       " '_op_priority',\n",
       " '_parse_order',\n",
       " '_pow',\n",
       " '_prop_handler',\n",
       " '_random',\n",
       " '_recursive_call',\n",
       " '_repr_disabled',\n",
       " '_repr_latex_',\n",
       " '_repr_png_',\n",
       " '_repr_svg_',\n",
       " '_sage_',\n",
       " '_sorted_args',\n",
       " '_subs',\n",
       " '_to_mpmath',\n",
       " '_xreplace',\n",
       " 'adjoint',\n",
       " 'apart',\n",
       " 'args',\n",
       " 'args_cnc',\n",
       " 'as_base_exp',\n",
       " 'as_coeff_Add',\n",
       " 'as_coeff_Mul',\n",
       " 'as_coeff_add',\n",
       " 'as_coeff_exponent',\n",
       " 'as_coeff_mul',\n",
       " 'as_coefficient',\n",
       " 'as_coefficients_dict',\n",
       " 'as_content_primitive',\n",
       " 'as_dummy',\n",
       " 'as_expr',\n",
       " 'as_independent',\n",
       " 'as_leading_term',\n",
       " 'as_numer_denom',\n",
       " 'as_ordered_factors',\n",
       " 'as_ordered_terms',\n",
       " 'as_poly',\n",
       " 'as_powers_dict',\n",
       " 'as_real_imag',\n",
       " 'as_terms',\n",
       " 'as_two_terms',\n",
       " 'aseries',\n",
       " 'assumptions0',\n",
       " 'atoms',\n",
       " 'cancel',\n",
       " 'canonical_variables',\n",
       " 'class_key',\n",
       " 'coeff',\n",
       " 'collect',\n",
       " 'combsimp',\n",
       " 'compare',\n",
       " 'compute_leading_term',\n",
       " 'conjugate',\n",
       " 'copy',\n",
       " 'could_extract_minus_sign',\n",
       " 'count',\n",
       " 'count_ops',\n",
       " 'default_assumptions',\n",
       " 'diff',\n",
       " 'dir',\n",
       " 'doit',\n",
       " 'dummy_eq',\n",
       " 'equals',\n",
       " 'evalf',\n",
       " 'expand',\n",
       " 'expr_free_symbols',\n",
       " 'extract_additively',\n",
       " 'extract_branch_factor',\n",
       " 'extract_multiplicatively',\n",
       " 'factor',\n",
       " 'find',\n",
       " 'flatten',\n",
       " 'fourier_series',\n",
       " 'fps',\n",
       " 'free_symbols',\n",
       " 'fromiter',\n",
       " 'func',\n",
       " 'gammasimp',\n",
       " 'getO',\n",
       " 'getn',\n",
       " 'has',\n",
       " 'identity',\n",
       " 'integrate',\n",
       " 'invert',\n",
       " 'is_Add',\n",
       " 'is_AlgebraicNumber',\n",
       " 'is_Atom',\n",
       " 'is_Boolean',\n",
       " 'is_Derivative',\n",
       " 'is_Dummy',\n",
       " 'is_Equality',\n",
       " 'is_Float',\n",
       " 'is_Function',\n",
       " 'is_Indexed',\n",
       " 'is_Integer',\n",
       " 'is_MatAdd',\n",
       " 'is_MatMul',\n",
       " 'is_Matrix',\n",
       " 'is_Mul',\n",
       " 'is_Not',\n",
       " 'is_Number',\n",
       " 'is_NumberSymbol',\n",
       " 'is_Order',\n",
       " 'is_Piecewise',\n",
       " 'is_Point',\n",
       " 'is_Poly',\n",
       " 'is_Pow',\n",
       " 'is_Rational',\n",
       " 'is_Relational',\n",
       " 'is_Symbol',\n",
       " 'is_Vector',\n",
       " 'is_Wild',\n",
       " 'is_algebraic',\n",
       " 'is_algebraic_expr',\n",
       " 'is_antihermitian',\n",
       " 'is_commutative',\n",
       " 'is_comparable',\n",
       " 'is_complex',\n",
       " 'is_composite',\n",
       " 'is_constant',\n",
       " 'is_even',\n",
       " 'is_extended_negative',\n",
       " 'is_extended_nonnegative',\n",
       " 'is_extended_nonpositive',\n",
       " 'is_extended_nonzero',\n",
       " 'is_extended_positive',\n",
       " 'is_extended_real',\n",
       " 'is_finite',\n",
       " 'is_hermitian',\n",
       " 'is_hypergeometric',\n",
       " 'is_imaginary',\n",
       " 'is_infinite',\n",
       " 'is_integer',\n",
       " 'is_irrational',\n",
       " 'is_meromorphic',\n",
       " 'is_negative',\n",
       " 'is_noninteger',\n",
       " 'is_nonnegative',\n",
       " 'is_nonpositive',\n",
       " 'is_nonzero',\n",
       " 'is_number',\n",
       " 'is_odd',\n",
       " 'is_polar',\n",
       " 'is_polynomial',\n",
       " 'is_positive',\n",
       " 'is_prime',\n",
       " 'is_rational',\n",
       " 'is_rational_function',\n",
       " 'is_real',\n",
       " 'is_scalar',\n",
       " 'is_symbol',\n",
       " 'is_transcendental',\n",
       " 'is_zero',\n",
       " 'leadterm',\n",
       " 'limit',\n",
       " 'lseries',\n",
       " 'make_args',\n",
       " 'match',\n",
       " 'matches',\n",
       " 'n',\n",
       " 'normal',\n",
       " 'nseries',\n",
       " 'nsimplify',\n",
       " 'powsimp',\n",
       " 'primitive',\n",
       " 'radsimp',\n",
       " 'ratsimp',\n",
       " 'rcall',\n",
       " 'refine',\n",
       " 'removeO',\n",
       " 'replace',\n",
       " 'rewrite',\n",
       " 'round',\n",
       " 'separate',\n",
       " 'series',\n",
       " 'simplify',\n",
       " 'sort_key',\n",
       " 'subs',\n",
       " 'taylor_term',\n",
       " 'together',\n",
       " 'transpose',\n",
       " 'trigsimp',\n",
       " 'xreplace']"
      ]
     },
     "metadata": {},
     "execution_count": 168
    }
   ],
   "source": [
    "x,y = symbols('x,y')\n",
    "dir(Mul(x,y))\n"
   ]
  },
  {
   "cell_type": "code",
   "execution_count": 169,
   "metadata": {},
   "outputs": [],
   "source": [
    "x,y = symbols('x y')"
   ]
  },
  {
   "cell_type": "code",
   "execution_count": 170,
   "metadata": {},
   "outputs": [
    {
     "output_type": "stream",
     "name": "stdout",
     "text": [
      "1 -1\n"
     ]
    }
   ],
   "source": [
    "x = Integer(1)\n",
    "y = Integer(-1)\n",
    "print(x, y)"
   ]
  },
  {
   "cell_type": "code",
   "execution_count": 176,
   "metadata": {},
   "outputs": [
    {
     "output_type": "stream",
     "name": "stdout",
     "text": [
      "3.0*y + 9.0\n"
     ]
    }
   ],
   "source": [
    "from sympy import Integer, symbols\n",
    "x,y = symbols('x,y')\n",
    "expr = (x*y + x**2).subs(x,3)\n",
    "print(expr.evalf())"
   ]
  },
  {
   "cell_type": "code",
   "execution_count": 178,
   "metadata": {},
   "outputs": [
    {
     "output_type": "stream",
     "name": "stdout",
     "text": [
      "x*y\nx/y\n"
     ]
    }
   ],
   "source": [
    "print(Mul(x,y))\n",
    "print(Mul(x, 1/y))"
   ]
  },
  {
   "cell_type": "code",
   "execution_count": 179,
   "metadata": {},
   "outputs": [
    {
     "output_type": "stream",
     "name": "stdout",
     "text": [
      "1 -1\n"
     ]
    }
   ],
   "source": [
    "x,y = symbols('x, y')\n",
    "x = Integer(1)\n",
    "y = Integer(-1)\n",
    "print(x,y)"
   ]
  },
  {
   "cell_type": "code",
   "execution_count": 180,
   "metadata": {},
   "outputs": [
    {
     "output_type": "stream",
     "name": "stdout",
     "text": [
      "x**2\nx**0.5\n"
     ]
    }
   ],
   "source": [
    "x,y = symbols('x,y')\n",
    "print(Pow(x,2))\n",
    "print(Pow(x,1/2))"
   ]
  },
  {
   "cell_type": "code",
   "execution_count": 183,
   "metadata": {},
   "outputs": [
    {
     "output_type": "stream",
     "name": "stdout",
     "text": [
      "⌠                 x           x       \n⎮  x             ℯ ⋅cos(x)   ℯ ⋅sin(x)\n⎮ ℯ ⋅cos(x) dx = ───────── + ─────────\n⌡                    2           2    \n"
     ]
    }
   ],
   "source": [
    "from sympy import *\n",
    "x = symbols('x')\n",
    "a = Integral(cos(x)*exp(x),x)\n",
    "Eq(a, a.doit())\n",
    "pprint(Eq(Integral(exp(x)*cos(x),x),exp(x)*sin(x)/2 + exp(x)*cos(x)/2))"
   ]
  },
  {
   "cell_type": "code",
   "execution_count": 185,
   "metadata": {},
   "outputs": [
    {
     "output_type": "stream",
     "name": "stdout",
     "text": [
      "3.0\n"
     ]
    }
   ],
   "source": [
    "import math\n",
    "print(math.sqrt(9))"
   ]
  },
  {
   "cell_type": "code",
   "execution_count": 186,
   "metadata": {},
   "outputs": [
    {
     "output_type": "execute_result",
     "data": {
      "text/plain": [
       "2.8284271247461903"
      ],
      "image/png": "[encoded data removed]",
      "text/latex": "$\\displaystyle 2.82842712474619$"
     },
     "metadata": {},
     "execution_count": 186
    }
   ],
   "source": [
    "math.sqrt(8)"
   ]
  },
  {
   "cell_type": "code",
   "execution_count": 187,
   "metadata": {},
   "outputs": [
    {
     "output_type": "execute_result",
     "data": {
      "text/plain": [
       "√3"
      ],
      "image/png": "[encoded data removed]",
      "text/latex": "$\\displaystyle \\sqrt{3}$"
     },
     "metadata": {},
     "execution_count": 187
    }
   ],
   "source": [
    "import sympy\n",
    "sympy.sqrt(3)"
   ]
  },
  {
   "cell_type": "code",
   "execution_count": 188,
   "metadata": {},
   "outputs": [
    {
     "output_type": "execute_result",
     "data": {
      "text/plain": [
       "2⋅√2"
      ],
      "image/png": "[encoded data removed]",
      "text/latex": "$\\displaystyle 2 \\sqrt{2}$"
     },
     "metadata": {},
     "execution_count": 188
    }
   ],
   "source": [
    "sympy.sqrt(8) #symbolic computation은 simplified"
   ]
  },
  {
   "cell_type": "code",
   "execution_count": 189,
   "metadata": {},
   "outputs": [
    {
     "output_type": "execute_result",
     "data": {
      "text/plain": [
       "2⋅y + x"
      ],
      "image/png": "[encoded data removed]",
      "text/latex": "$\\displaystyle 2 y + x$"
     },
     "metadata": {},
     "execution_count": 189
    }
   ],
   "source": [
    "from sympy import symbols\n",
    "x,y = symbols('x y')\n",
    "expr= x+ 2*y\n",
    "expr"
   ]
  },
  {
   "cell_type": "code",
   "execution_count": 190,
   "metadata": {},
   "outputs": [
    {
     "output_type": "execute_result",
     "data": {
      "text/plain": [
       "2⋅y"
      ],
      "image/png": "[encoded data removed]",
      "text/latex": "$\\displaystyle 2 y$"
     },
     "metadata": {},
     "execution_count": 190
    }
   ],
   "source": [
    "expr + 1\n",
    "expr - x"
   ]
  },
  {
   "cell_type": "code",
   "execution_count": 191,
   "metadata": {},
   "outputs": [
    {
     "output_type": "execute_result",
     "data": {
      "text/plain": [
       "x⋅(2⋅y + x)"
      ],
      "image/png": "[encoded data removed]",
      "text/latex": "$\\displaystyle x \\left(2 y + x\\right)$"
     },
     "metadata": {},
     "execution_count": 191
    }
   ],
   "source": [
    "x*expr"
   ]
  },
  {
   "cell_type": "code",
   "execution_count": 193,
   "metadata": {},
   "outputs": [
    {
     "output_type": "execute_result",
     "data": {
      "text/plain": [
       "x⋅(2⋅y + x)"
      ],
      "image/png": "[encoded data removed]",
      "text/latex": "$\\displaystyle x \\left(2 y + x\\right)$"
     },
     "metadata": {},
     "execution_count": 193
    }
   ],
   "source": [
    "from sympy import expand, factor\n",
    "expanded_expr = expand(x*expr)\n",
    "expanded_expr\n",
    "factor(expanded_expr)"
   ]
  },
  {
   "cell_type": "code",
   "execution_count": 194,
   "metadata": {},
   "outputs": [],
   "source": [
    "from sympy import *\n",
    "x,t,z,nu = symbols('x t z nu')"
   ]
  },
  {
   "cell_type": "code",
   "execution_count": 214,
   "metadata": {},
   "outputs": [],
   "source": [
    "init_printing(use_unicode=True)"
   ]
  },
  {
   "cell_type": "code",
   "execution_count": 196,
   "metadata": {},
   "outputs": [
    {
     "output_type": "execute_result",
     "data": {
      "text/plain": [
       " x           x       \n",
       "ℯ ⋅cos(x) + ℯ ⋅sin(x)"
      ],
      "image/png": "[encoded data removed]",
      "text/latex": "$\\displaystyle e^{x} \\cos{\\left(x \\right)} + e^{x} \\sin{\\left(x \\right)}$"
     },
     "metadata": {},
     "execution_count": 196
    }
   ],
   "source": [
    "diff(sin(x)*exp(x),x)"
   ]
  },
  {
   "cell_type": "code",
   "execution_count": 197,
   "metadata": {},
   "outputs": [
    {
     "output_type": "execute_result",
     "data": {
      "text/plain": [
       " x       \n",
       "ℯ ⋅sin(x)"
      ],
      "image/png": "[encoded data removed]",
      "text/latex": "$\\displaystyle e^{x} \\sin{\\left(x \\right)}$"
     },
     "metadata": {},
     "execution_count": 197
    }
   ],
   "source": [
    "integrate(exp(x)*sin(x) + exp(x)*cos(x),x)"
   ]
  },
  {
   "cell_type": "code",
   "execution_count": 201,
   "metadata": {},
   "outputs": [
    {
     "output_type": "execute_result",
     "data": {
      "text/plain": [
       "√2⋅√π\n",
       "─────\n",
       "  2  "
      ],
      "image/png": "[encoded data removed]",
      "text/latex": "$\\displaystyle \\frac{\\sqrt{2} \\sqrt{\\pi}}{2}$"
     },
     "metadata": {},
     "execution_count": 201
    }
   ],
   "source": [
    "integrate(sin(x**2),(x,-oo,oo))"
   ]
  },
  {
   "cell_type": "code",
   "execution_count": 202,
   "metadata": {},
   "outputs": [
    {
     "output_type": "execute_result",
     "data": {
      "text/plain": [
       "1"
      ],
      "image/png": "[encoded data removed]",
      "text/latex": "$\\displaystyle 1$"
     },
     "metadata": {},
     "execution_count": 202
    }
   ],
   "source": [
    "limit(sin(x)/x,x,0)"
   ]
  },
  {
   "cell_type": "code",
   "execution_count": 203,
   "metadata": {},
   "outputs": [
    {
     "output_type": "execute_result",
     "data": {
      "text/plain": [
       "[-√2, √2]"
      ],
      "image/png": "[encoded data removed]",
      "text/latex": "$\\displaystyle \\left[ - \\sqrt{2}, \\  \\sqrt{2}\\right]$"
     },
     "metadata": {},
     "execution_count": 203
    }
   ],
   "source": [
    "solve(x**2 -2, x)"
   ]
  },
  {
   "cell_type": "code",
   "execution_count": 210,
   "metadata": {},
   "outputs": [
    {
     "output_type": "execute_result",
     "data": {
      "text/plain": [
       "  2                  \n",
       " d                  t\n",
       "───(y(t)) - y(t) = ℯ \n",
       "  2                  \n",
       "dt                   "
      ],
      "image/png": "[encoded data removed]",
      "text/latex": "$\\displaystyle \\frac{d^{2}}{d t^{2}} y{\\left(t \\right)} - y{\\left(t \\right)} = e^{t}$"
     },
     "metadata": {},
     "execution_count": 210
    }
   ],
   "source": [
    "y = Function('y')\n",
    "dsolve(Eq(y(t).diff(t,t) -y(t), exp(t)), y(t))\n",
    "Eq(y(t).diff(t,t) -y(t), exp(t))"
   ]
  },
  {
   "cell_type": "code",
   "execution_count": 211,
   "metadata": {},
   "outputs": [
    {
     "output_type": "execute_result",
     "data": {
      "text/plain": [
       "⎧3   √17     √17   3   ⎫\n",
       "⎨─ - ───: 1, ─── + ─: 1⎬\n",
       "⎩2    2       2    2   ⎭"
      ],
      "image/png": "[encoded data removed]",
      "text/latex": "$\\displaystyle \\left\\{ \\frac{3}{2} - \\frac{\\sqrt{17}}{2} : 1, \\  \\frac{\\sqrt{17}}{2} + \\frac{3}{2} : 1\\right\\}$"
     },
     "metadata": {},
     "execution_count": 211
    }
   ],
   "source": [
    "Matrix([[1,2],[2,2]]).eigenvals()"
   ]
  },
  {
   "cell_type": "code",
   "execution_count": 217,
   "metadata": {},
   "outputs": [
    {
     "output_type": "execute_result",
     "data": {
      "text/plain": [
       "'\\\\frac{\\\\sqrt{2} \\\\sqrt{z} j_{- \\\\frac{1}{2} + \\\\nu}\\\\left(z\\\\right)}{\\\\sqrt{\\\\pi}}'"
      ]
     },
     "metadata": {},
     "execution_count": 217
    }
   ],
   "source": [
    "latex(besselj(nu,z).rewrite(jn))"
   ]
  },
  {
   "cell_type": "code",
   "execution_count": 216,
   "metadata": {},
   "outputs": [
    {
     "output_type": "execute_result",
     "data": {
      "text/plain": [
       "'\\\\int\\\\limits_{0}^{\\\\pi} \\\\cos^{2}{\\\\left(x \\\\right)}\\\\, dx'"
      ]
     },
     "metadata": {},
     "execution_count": 216
    }
   ],
   "source": [
    "latex(Integral(cos(x)**2,(x,0,pi)))"
   ]
  },
  {
   "cell_type": "code",
   "execution_count": 235,
   "metadata": {},
   "outputs": [
    {
     "output_type": "execute_result",
     "data": {
      "text/plain": [
       "1 + x"
      ],
      "image/png": "[encoded data removed]",
      "text/latex": "$\\displaystyle 1 + x$"
     },
     "metadata": {},
     "execution_count": 235
    }
   ],
   "source": [
    "x = symbols('x')\n",
    "x +1"
   ]
  },
  {
   "cell_type": "code",
   "execution_count": 222,
   "metadata": {},
   "outputs": [],
   "source": [
    "crazy = symbols('unrelated')"
   ]
  },
  {
   "cell_type": "code",
   "execution_count": 223,
   "metadata": {},
   "outputs": [
    {
     "output_type": "execute_result",
     "data": {
      "text/plain": [
       "1 + unrelated"
      ],
      "image/png": "[encoded data removed]",
      "text/latex": "$\\displaystyle 1 + unrelated$"
     },
     "metadata": {},
     "execution_count": 223
    }
   ],
   "source": [
    "crazy +1"
   ]
  },
  {
   "cell_type": "code",
   "execution_count": 234,
   "metadata": {},
   "outputs": [
    {
     "output_type": "stream",
     "name": "stdout",
     "text": [
      "x + 1\n"
     ]
    }
   ],
   "source": [
    "expr = x+1\n",
    "x=2\n",
    "print(expr)"
   ]
  },
  {
   "cell_type": "code",
   "execution_count": 230,
   "metadata": {},
   "outputs": [
    {
     "output_type": "execute_result",
     "data": {
      "text/plain": [
       "'abcdef'"
      ]
     },
     "metadata": {},
     "execution_count": 230
    }
   ],
   "source": [
    "x = 'abc'\n",
    "expr = x+'def'\n",
    "expr\n",
    "x = 'ABC' # no effect on expr\n",
    "expr"
   ]
  },
  {
   "cell_type": "code",
   "execution_count": 239,
   "metadata": {},
   "outputs": [
    {
     "output_type": "execute_result",
     "data": {
      "text/plain": [
       "3"
      ],
      "image/png": "[encoded data removed]",
      "text/latex": "$\\displaystyle 3$"
     },
     "metadata": {},
     "execution_count": 239
    }
   ],
   "source": [
    "x = symbols('x')\n",
    "expr = x+1\n",
    "expr.subs(x,2)"
   ]
  },
  {
   "cell_type": "code",
   "execution_count": 240,
   "metadata": {},
   "outputs": [
    {
     "output_type": "execute_result",
     "data": {
      "text/plain": [
       "False"
      ]
     },
     "metadata": {},
     "execution_count": 240
    }
   ],
   "source": [
    "x + 1==4"
   ]
  },
  {
   "cell_type": "code",
   "execution_count": 242,
   "metadata": {},
   "outputs": [
    {
     "output_type": "execute_result",
     "data": {
      "text/plain": [
       "1 + x = 4"
      ],
      "image/png": "[encoded data removed]",
      "text/latex": "$\\displaystyle 1 + x = 4$"
     },
     "metadata": {},
     "execution_count": 242
    }
   ],
   "source": [
    "Eq(x+1 ,4)"
   ]
  },
  {
   "cell_type": "code",
   "execution_count": 243,
   "metadata": {},
   "outputs": [
    {
     "output_type": "execute_result",
     "data": {
      "text/plain": [
       "False"
      ]
     },
     "metadata": {},
     "execution_count": 243
    }
   ],
   "source": [
    "(x+1) ** 2 == x**2 + 2*x +1"
   ]
  },
  {
   "cell_type": "code",
   "execution_count": 244,
   "metadata": {},
   "outputs": [
    {
     "output_type": "execute_result",
     "data": {
      "text/plain": [
       "0"
      ],
      "image/png": "[encoded data removed]",
      "text/latex": "$\\displaystyle 0$"
     },
     "metadata": {},
     "execution_count": 244
    }
   ],
   "source": [
    "a = (x+1) **2\n",
    "b = x**2 + 2*x +1\n",
    "simplify( a-b)\n"
   ]
  },
  {
   "cell_type": "code",
   "execution_count": 245,
   "metadata": {},
   "outputs": [
    {
     "output_type": "execute_result",
     "data": {
      "text/plain": [
       "x⋅(2 + x)"
      ],
      "image/png": "[encoded data removed]",
      "text/latex": "$\\displaystyle x \\left(2 + x\\right)$"
     },
     "metadata": {},
     "execution_count": 245
    }
   ],
   "source": [
    "c = x**2 - x*x +1\n",
    "simplify(a-c)"
   ]
  },
  {
   "cell_type": "code",
   "execution_count": 246,
   "metadata": {},
   "outputs": [
    {
     "output_type": "execute_result",
     "data": {
      "text/plain": [
       "True"
      ]
     },
     "metadata": {},
     "execution_count": 246
    }
   ],
   "source": [
    "a = cos(x)**2 -sin(x)**2\n",
    "b = cos(2*x)\n",
    "a.equals(b)"
   ]
  },
  {
   "cell_type": "code",
   "execution_count": 247,
   "metadata": {},
   "outputs": [
    {
     "output_type": "execute_result",
     "data": {
      "text/plain": [
       "True"
      ]
     },
     "metadata": {},
     "execution_count": 247
    }
   ],
   "source": [
    "True ^ False"
   ]
  },
  {
   "cell_type": "code",
   "execution_count": 257,
   "metadata": {},
   "outputs": [
    {
     "output_type": "execute_result",
     "data": {
      "text/plain": [
       "False"
      ]
     },
     "metadata": {},
     "execution_count": 257
    }
   ],
   "source": [
    "True^True"
   ]
  },
  {
   "cell_type": "code",
   "execution_count": 260,
   "metadata": {
    "tags": []
   },
   "outputs": [
    {
     "output_type": "execute_result",
     "data": {
      "text/plain": [
       "y ⊻ x"
      ],
      "image/png": "[encoded data removed]",
      "text/latex": "$\\displaystyle y \\veebar x$"
     },
     "metadata": {},
     "execution_count": 260
    }
   ],
   "source": [
    "Xor(x,y)"
   ]
  },
  {
   "cell_type": "code",
   "execution_count": 251,
   "metadata": {},
   "outputs": [
    {
     "output_type": "execute_result",
     "data": {
      "text/plain": [
       "sympy.core.numbers.Integer"
      ]
     },
     "metadata": {},
     "execution_count": 251
    }
   ],
   "source": [
    "type(Integer(1) + 1)"
   ]
  },
  {
   "cell_type": "code",
   "execution_count": 252,
   "metadata": {},
   "outputs": [
    {
     "output_type": "execute_result",
     "data": {
      "text/plain": [
       "int"
      ]
     },
     "metadata": {},
     "execution_count": 252
    }
   ],
   "source": [
    "type(1+1)"
   ]
  },
  {
   "cell_type": "code",
   "execution_count": 261,
   "metadata": {},
   "outputs": [
    {
     "output_type": "execute_result",
     "data": {
      "text/plain": [
       "1/3"
      ],
      "image/png": "[encoded data removed]",
      "text/latex": "$\\displaystyle \\frac{1}{3}$"
     },
     "metadata": {},
     "execution_count": 261
    }
   ],
   "source": [
    "Integer(1)/Integer(3)"
   ]
  },
  {
   "cell_type": "code",
   "execution_count": 262,
   "metadata": {},
   "outputs": [
    {
     "output_type": "execute_result",
     "data": {
      "text/plain": [
       "sympy.core.numbers.Rational"
      ]
     },
     "metadata": {},
     "execution_count": 262
    }
   ],
   "source": [
    "type(Integer(1)/Integer(3))"
   ]
  },
  {
   "cell_type": "code",
   "execution_count": 264,
   "metadata": {},
   "outputs": [
    {
     "output_type": "execute_result",
     "data": {
      "text/plain": [
       "0.5"
      ],
      "image/png": "[encoded data removed]",
      "text/latex": "$\\displaystyle 0.5$"
     },
     "metadata": {},
     "execution_count": 264
    }
   ],
   "source": [
    "from __future__ import division\n",
    "1/2"
   ]
  },
  {
   "cell_type": "code",
   "execution_count": 265,
   "metadata": {},
   "outputs": [
    {
     "output_type": "execute_result",
     "data": {
      "text/plain": [
       "1/2"
      ],
      "image/png": "[encoded data removed]",
      "text/latex": "$\\displaystyle \\frac{1}{2}$"
     },
     "metadata": {},
     "execution_count": 265
    }
   ],
   "source": [
    "Rational(1,2)"
   ]
  },
  {
   "cell_type": "code",
   "execution_count": 266,
   "metadata": {},
   "outputs": [
    {
     "output_type": "execute_result",
     "data": {
      "text/plain": [
       "0.5 + x"
      ],
      "image/png": "[encoded data removed]",
      "text/latex": "$\\displaystyle 0.5 + x$"
     },
     "metadata": {},
     "execution_count": 266
    }
   ],
   "source": [
    "x + 1/2"
   ]
  },
  {
   "cell_type": "code",
   "execution_count": 267,
   "metadata": {},
   "outputs": [],
   "source": [
    "# Gatchas\n",
    "from sympy import *"
   ]
  },
  {
   "cell_type": "code",
   "execution_count": 268,
   "metadata": {},
   "outputs": [
    {
     "output_type": "execute_result",
     "data": {
      "text/plain": [
       "1 + x"
      ],
      "image/png": "[encoded data removed]",
      "text/latex": "$\\displaystyle 1 + x$"
     },
     "metadata": {},
     "execution_count": 268
    }
   ],
   "source": [
    "x+1"
   ]
  },
  {
   "cell_type": "code",
   "execution_count": 269,
   "metadata": {},
   "outputs": [
    {
     "output_type": "execute_result",
     "data": {
      "text/plain": [
       "1 + x"
      ],
      "image/png": "[encoded data removed]",
      "text/latex": "$\\displaystyle 1 + x$"
     },
     "metadata": {},
     "execution_count": 269
    }
   ],
   "source": [
    "x = symbols('x')\n",
    "x+1"
   ]
  },
  {
   "cell_type": "code",
   "execution_count": 270,
   "metadata": {},
   "outputs": [],
   "source": [
    "x,y,z = symbols('x y z')"
   ]
  },
  {
   "cell_type": "code",
   "execution_count": 271,
   "metadata": {},
   "outputs": [
    {
     "output_type": "execute_result",
     "data": {
      "text/plain": [
       "b"
      ],
      "image/png": "[encoded data removed]",
      "text/latex": "$\\displaystyle b$"
     },
     "metadata": {},
     "execution_count": 271
    }
   ],
   "source": [
    "a, b =symbols('b a')\n",
    "a"
   ]
  },
  {
   "cell_type": "code",
   "execution_count": 272,
   "metadata": {},
   "outputs": [
    {
     "output_type": "execute_result",
     "data": {
      "text/plain": [
       "a"
      ],
      "image/png": "[encoded data removed]",
      "text/latex": "$\\displaystyle a$"
     },
     "metadata": {},
     "execution_count": 272
    }
   ],
   "source": [
    "b"
   ]
  },
  {
   "cell_type": "code",
   "execution_count": 273,
   "metadata": {},
   "outputs": [
    {
     "output_type": "execute_result",
     "data": {
      "text/plain": [
       "1 + unrelated"
      ],
      "image/png": "[encoded data removed]",
      "text/latex": "$\\displaystyle 1 + unrelated$"
     },
     "metadata": {},
     "execution_count": 273
    }
   ],
   "source": [
    "crazy =symbols('unrelated')\n",
    "crazy + 1"
   ]
  },
  {
   "cell_type": "code",
   "execution_count": 274,
   "metadata": {},
   "outputs": [
    {
     "output_type": "execute_result",
     "data": {
      "text/plain": [
       "1 + x = 4"
      ],
      "image/png": "[encoded data removed]",
      "text/latex": "$\\displaystyle 1 + x = 4$"
     },
     "metadata": {},
     "execution_count": 274
    }
   ],
   "source": [
    "Eq(x + 1, 4)"
   ]
  },
  {
   "cell_type": "code",
   "execution_count": 275,
   "metadata": {},
   "outputs": [
    {
     "output_type": "execute_result",
     "data": {
      "text/plain": [
       "False"
      ]
     },
     "metadata": {},
     "execution_count": 275
    }
   ],
   "source": [
    "(x+1) **2 == x**2 + 2*x + 1"
   ]
  },
  {
   "cell_type": "code",
   "execution_count": 278,
   "metadata": {},
   "outputs": [
    {
     "output_type": "stream",
     "name": "stdout",
     "text": [
      "-x**2 - 2.0*x + (x + 1.0)**2 - 1.0\n"
     ]
    }
   ],
   "source": [
    "a = (x+1) ** 2\n",
    "b = x**2 + 2*x + 1\n",
    "simplify(a -b)"
   ]
  },
  {
   "cell_type": "code",
   "execution_count": 279,
   "metadata": {},
   "outputs": [
    {
     "output_type": "execute_result",
     "data": {
      "text/plain": [
       "True"
      ]
     },
     "metadata": {},
     "execution_count": 279
    }
   ],
   "source": [
    "a = cos(x)**2 - sin(x)**2\n",
    "b = cos(2*x)\n",
    "a.equals(b)"
   ]
  },
  {
   "cell_type": "code",
   "execution_count": 280,
   "metadata": {},
   "outputs": [],
   "source": [
    "# Basic operations\n",
    "from sympy import *\n",
    "x, y, z = symbols(\"x y z\")"
   ]
  },
  {
   "cell_type": "code",
   "execution_count": 281,
   "metadata": {},
   "outputs": [
    {
     "output_type": "execute_result",
     "data": {
      "text/plain": [
       "1 + cos(y)"
      ],
      "image/png": "[encoded data removed]",
      "text/latex": "$\\displaystyle 1 + \\cos{\\left(y \\right)}$"
     },
     "metadata": {},
     "execution_count": 281
    }
   ],
   "source": [
    "expr = cos(x) + 1\n",
    "expr.subs(x,y)\n"
   ]
  },
  {
   "cell_type": "code",
   "execution_count": 282,
   "metadata": {},
   "outputs": [
    {
     "output_type": "execute_result",
     "data": {
      "text/plain": [
       "2"
      ],
      "image/png": "[encoded data removed]",
      "text/latex": "$\\displaystyle 2$"
     },
     "metadata": {},
     "execution_count": 282
    }
   ],
   "source": [
    "expr.subs(x,0)"
   ]
  },
  {
   "cell_type": "code",
   "execution_count": 283,
   "metadata": {},
   "outputs": [
    {
     "output_type": "execute_result",
     "data": {
      "text/plain": [
       " y\n",
       "x "
      ],
      "image/png": "[encoded data removed]",
      "text/latex": "$\\displaystyle x^{y}$"
     },
     "metadata": {},
     "execution_count": 283
    }
   ],
   "source": [
    "expr = x**y\n",
    "expr"
   ]
  },
  {
   "cell_type": "code",
   "execution_count": 285,
   "metadata": {},
   "outputs": [
    {
     "output_type": "execute_result",
     "data": {
      "text/plain": [
       " ⎛ ⎛ y⎞⎞\n",
       " ⎜ ⎝x ⎠⎟\n",
       " ⎝x    ⎠\n",
       "x       "
      ],
      "image/png": "[encoded data removed]",
      "text/latex": "$\\displaystyle x^{x^{x^{y}}}$"
     },
     "metadata": {},
     "execution_count": 285
    }
   ],
   "source": [
    "expr = expr.subs(y, x**y)\n",
    "expr"
   ]
  },
  {
   "cell_type": "code",
   "execution_count": 286,
   "metadata": {},
   "outputs": [
    {
     "output_type": "execute_result",
     "data": {
      "text/plain": [
       " ⎛ ⎛ ⎛ y⎞⎞⎞\n",
       " ⎜ ⎜ ⎝x ⎠⎟⎟\n",
       " ⎜ ⎝x    ⎠⎟\n",
       " ⎝x       ⎠\n",
       "x          "
      ],
      "image/png": "[encoded data removed]",
      "text/latex": "$\\displaystyle x^{x^{x^{x^{y}}}}$"
     },
     "metadata": {},
     "execution_count": 286
    }
   ],
   "source": [
    "expr = expr.subs(y, x**y)\n",
    "expr"
   ]
  },
  {
   "cell_type": "code",
   "execution_count": 287,
   "metadata": {},
   "outputs": [
    {
     "output_type": "execute_result",
     "data": {
      "text/plain": [
       "          2                     \n",
       "-1 + 2⋅cos (x) + 2⋅sin(x)⋅cos(x)"
      ],
      "image/png": "[encoded data removed]",
      "text/latex": "$\\displaystyle -1 + 2 \\cos^{2}{\\left(x \\right)} + 2 \\sin{\\left(x \\right)} \\cos{\\left(x \\right)}$"
     },
     "metadata": {},
     "execution_count": 287
    }
   ],
   "source": [
    "expr = sin(2*x) + cos(2*x)\n",
    "expand_trig(expr)"
   ]
  },
  {
   "cell_type": "code",
   "execution_count": 288,
   "metadata": {},
   "outputs": [
    {
     "output_type": "execute_result",
     "data": {
      "text/plain": [
       "cos(2⋅x) + 2⋅sin(x)⋅cos(x)"
      ],
      "image/png": "[encoded data removed]",
      "text/latex": "$\\displaystyle \\cos{\\left(2 x \\right)} + 2 \\sin{\\left(x \\right)} \\cos{\\left(x \\right)}$"
     },
     "metadata": {},
     "execution_count": 288
    }
   ],
   "source": [
    "expr.subs(sin(2*x), 2*sin(x)*cos(x))"
   ]
  },
  {
   "cell_type": "code",
   "execution_count": 289,
   "metadata": {},
   "outputs": [
    {
     "output_type": "execute_result",
     "data": {
      "text/plain": [
       "1"
      ],
      "image/png": "[encoded data removed]",
      "text/latex": "$\\displaystyle 1$"
     },
     "metadata": {},
     "execution_count": 289
    }
   ],
   "source": [
    "expr = cos(x)\n",
    "expr.subs(x,0)"
   ]
  },
  {
   "cell_type": "code",
   "execution_count": 290,
   "metadata": {},
   "outputs": [
    {
     "output_type": "execute_result",
     "data": {
      "text/plain": [
       "cos(x)"
      ],
      "image/png": "[encoded data removed]",
      "text/latex": "$\\displaystyle \\cos{\\left(x \\right)}$"
     },
     "metadata": {},
     "execution_count": 290
    }
   ],
   "source": [
    "expr"
   ]
  },
  {
   "cell_type": "code",
   "execution_count": 291,
   "metadata": {},
   "outputs": [
    {
     "output_type": "execute_result",
     "data": {
      "text/plain": [
       "40"
      ],
      "image/png": "[encoded data removed]",
      "text/latex": "$\\displaystyle 40$"
     },
     "metadata": {},
     "execution_count": 291
    }
   ],
   "source": [
    "expr = x**3 + 4*x*y -z\n",
    "expr.subs([(x,2),(y,4),(z,0)])"
   ]
  },
  {
   "cell_type": "code",
   "execution_count": 292,
   "metadata": {},
   "outputs": [
    {
     "output_type": "execute_result",
     "data": {
      "text/plain": [
       "       2    4            3\n",
       "3 + 4⋅y  + y  - 2⋅x - 4⋅x "
      ],
      "image/png": "[encoded data removed]",
      "text/latex": "$\\displaystyle 3 + 4 y^{2} + y^{4} - 2 x - 4 x^{3}$"
     },
     "metadata": {},
     "execution_count": 292
    }
   ],
   "source": [
    "expr = x**4 -4*x**3 + 4*x ** 2 - 2*x + 3\n",
    "replacements = [(x**i, y**i) for i in range(5) if i%2 == 0]\n",
    "expr. subs(replacements)"
   ]
  },
  {
   "cell_type": "code",
   "execution_count": 293,
   "metadata": {},
   "outputs": [
    {
     "output_type": "execute_result",
     "data": {
      "text/plain": [
       "  1          2\n",
       "- ─ + 3⋅x + x \n",
       "  2           "
      ],
      "image/png": "[encoded data removed]",
      "text/latex": "$\\displaystyle - \\frac{1}{2} + 3 x + x^{2}$"
     },
     "metadata": {},
     "execution_count": 293
    }
   ],
   "source": [
    "str_expr = 'x**2 + 3*x -1/2'\n",
    "expr = sympify(str_expr)\n",
    "expr"
   ]
  },
  {
   "cell_type": "code",
   "execution_count": 294,
   "metadata": {},
   "outputs": [
    {
     "output_type": "execute_result",
     "data": {
      "text/plain": [
       "19/2"
      ],
      "image/png": "[encoded data removed]",
      "text/latex": "$\\displaystyle \\frac{19}{2}$"
     },
     "metadata": {},
     "execution_count": 294
    }
   ],
   "source": [
    "expr.subs(x,2)"
   ]
  },
  {
   "cell_type": "code",
   "execution_count": 295,
   "metadata": {},
   "outputs": [
    {
     "output_type": "execute_result",
     "data": {
      "text/plain": [
       "2.82842712474619"
      ],
      "image/png": "[encoded data removed]",
      "text/latex": "$\\displaystyle 2.82842712474619$"
     },
     "metadata": {},
     "execution_count": 295
    }
   ],
   "source": [
    "expr = sqrt(8)\n",
    "expr.evalf()"
   ]
  },
  {
   "cell_type": "code",
   "execution_count": 296,
   "metadata": {},
   "outputs": [
    {
     "output_type": "execute_result",
     "data": {
      "text/plain": [
       "3.1415926535897932384626433832795028841971693993751058209749445923078164062862\n",
       "08998628034825342117068"
      ],
      "image/png": "[encoded data removed]",
      "text/latex": "$\\displaystyle 3.141592653589793238462643383279502884197169399375105820974944592307816406286208998628034825342117068$"
     },
     "metadata": {},
     "execution_count": 296
    }
   ],
   "source": [
    "pi.evalf(100)"
   ]
  },
  {
   "cell_type": "code",
   "execution_count": 297,
   "metadata": {},
   "outputs": [
    {
     "output_type": "execute_result",
     "data": {
      "text/plain": [
       "0.0874989834394464"
      ],
      "image/png": "[encoded data removed]",
      "text/latex": "$\\displaystyle 0.0874989834394464$"
     },
     "metadata": {},
     "execution_count": 297
    }
   ],
   "source": [
    "expr = cos(2*x)\n",
    "expr.evalf(subs = {x:2.4})"
   ]
  },
  {
   "cell_type": "code",
   "execution_count": 307,
   "metadata": {},
   "outputs": [
    {
     "output_type": "execute_result",
     "data": {
      "text/plain": [
       "        2         2   \n",
       "-1 + cos (x) + sin (y)"
      ],
      "image/png": "[encoded data removed]",
      "text/latex": "$\\displaystyle -1 + \\cos^{2}{\\left(x \\right)} + \\sin^{2}{\\left(y \\right)}$"
     },
     "metadata": {},
     "execution_count": 307
    }
   ],
   "source": [
    "one = cos(x) ** 2 + sin(y)**2\n",
    "one -1"
   ]
  },
  {
   "cell_type": "code",
   "execution_count": 317,
   "metadata": {},
   "outputs": [
    {
     "output_type": "execute_result",
     "data": {
      "text/plain": [
       "   2             2   \n",
       "cos (2) - 1 + sin (y)"
      ],
      "image/png": "[encoded data removed]",
      "text/latex": "$\\displaystyle \\cos^{2}{\\left(2 \\right)} - 1 + \\sin^{2}{\\left(y \\right)}$"
     },
     "metadata": {},
     "execution_count": 317
    }
   ],
   "source": [
    "one = cos(x) ** 2 + sin(y)**2\n",
    "one.subs(x,2) -1"
   ]
  },
  {
   "cell_type": "code",
   "execution_count": 318,
   "metadata": {},
   "outputs": [
    {
     "output_type": "execute_result",
     "data": {
      "text/plain": [
       "          2         2   \n",
       "-1.0 + cos (x) + sin (y)"
      ],
      "image/png": "[encoded data removed]",
      "text/latex": "$\\displaystyle -1.0 + \\cos^{2}{\\left(x \\right)} + \\sin^{2}{\\left(y \\right)}$"
     },
     "metadata": {},
     "execution_count": 318
    }
   ],
   "source": [
    "(one-1).evalf(chop= True)"
   ]
  },
  {
   "cell_type": "code",
   "execution_count": 319,
   "metadata": {},
   "outputs": [],
   "source": [
    "import numpy\n",
    "a = numpy.arange(10)"
   ]
  },
  {
   "cell_type": "code",
   "execution_count": 320,
   "metadata": {},
   "outputs": [],
   "source": [
    "expr = sin(x)"
   ]
  },
  {
   "cell_type": "code",
   "execution_count": 321,
   "metadata": {},
   "outputs": [
    {
     "output_type": "execute_result",
     "data": {
      "text/plain": [
       "array([ 0.        ,  0.84147098,  0.90929743,  0.14112001, -0.7568025 ,\n",
       "       -0.95892427, -0.2794155 ,  0.6569866 ,  0.98935825,  0.41211849])"
      ]
     },
     "metadata": {},
     "execution_count": 321
    }
   ],
   "source": [
    "f = lambdify(x, expr,\"numpy\")\n",
    "f(a)"
   ]
  },
  {
   "cell_type": "code",
   "execution_count": 322,
   "metadata": {},
   "outputs": [
    {
     "output_type": "execute_result",
     "data": {
      "text/plain": [
       "0.09983341664682815"
      ],
      "image/png": "[encoded data removed]",
      "text/latex": "$\\displaystyle 0.0998334166468282$"
     },
     "metadata": {},
     "execution_count": 322
    }
   ],
   "source": [
    "f = lambdify(x,expr,\"math\")\n",
    "f(0.1)"
   ]
  },
  {
   "cell_type": "code",
   "execution_count": 323,
   "metadata": {},
   "outputs": [],
   "source": [
    "def mysin(x):\n",
    "    return x\n",
    "f = lambdify(x, expr, {\"sin\":mysin})\n",
    "\n"
   ]
  },
  {
   "cell_type": "code",
   "execution_count": 324,
   "metadata": {},
   "outputs": [],
   "source": [
    "# printing\n",
    "from sympy import init_printing\n",
    "init_printing()\n"
   ]
  },
  {
   "cell_type": "code",
   "execution_count": 325,
   "metadata": {},
   "outputs": [
    {
     "output_type": "stream",
     "name": "stdout",
     "text": [
      "IPython console for SymPy 1.7.1 (Python 3.7.7-64-bit) (ground types: python)\n\nThese commands were executed:\n>>> from __future__ import division\n>>> from sympy import *\n>>> x, y, z, t = symbols('x y z t')\n>>> k, m, n = symbols('k m n', integer=True)\n>>> f, g, h = symbols('f g h', cls=Function)\n>>> init_printing()\n\nDocumentation can be found at https://docs.sympy.org/1.7.1/\n\n"
     ]
    }
   ],
   "source": [
    "from sympy import init_session\n",
    "init_session()"
   ]
  },
  {
   "cell_type": "code",
   "execution_count": 326,
   "metadata": {},
   "outputs": [],
   "source": [
    "from sympy import *\n",
    "x,y,z = symbols('x y z')\n",
    "init_printing()"
   ]
  },
  {
   "cell_type": "code",
   "execution_count": 327,
   "metadata": {},
   "outputs": [
    {
     "output_type": "execute_result",
     "data": {
      "text/plain": [
       "⌠           \n",
       "⎮     ___   \n",
       "⎮    ╱ 1    \n",
       "⎮   ╱  ─  dx\n",
       "⎮ ╲╱   x    \n",
       "⌡           "
      ],
      "image/png": "[encoded data removed]",
      "text/latex": "$\\displaystyle \\int \\sqrt{\\frac{1}{x}}\\, dx$"
     },
     "metadata": {},
     "execution_count": 327
    }
   ],
   "source": [
    "Integral(sqrt(1/x),x)\n"
   ]
  },
  {
   "cell_type": "code",
   "execution_count": 328,
   "metadata": {},
   "outputs": [
    {
     "output_type": "execute_result",
     "data": {
      "text/plain": [
       "'Integral(sqrt(1/x), x)'"
      ]
     },
     "metadata": {},
     "execution_count": 328
    }
   ],
   "source": [
    "x, y ,z = symbols('x y z')\n",
    "str(Integral(sqrt(1/x),x))"
   ]
  },
  {
   "cell_type": "code",
   "execution_count": 329,
   "metadata": {},
   "outputs": [
    {
     "output_type": "stream",
     "name": "stdout",
     "text": [
      "Integral(sqrt(1/x), x)\n"
     ]
    }
   ],
   "source": [
    "print(Integral(sqrt(1/x),x))\n"
   ]
  },
  {
   "cell_type": "code",
   "execution_count": 330,
   "metadata": {},
   "outputs": [
    {
     "output_type": "execute_result",
     "data": {
      "text/plain": [
       "\"Integral(Pow(Pow(Symbol('x'), Integer(-1)), Rational(1, 2)), Tuple(Symbol('x')))\""
      ]
     },
     "metadata": {},
     "execution_count": 330
    }
   ],
   "source": [
    "srepr(Integral(sqrt(1/x),x))"
   ]
  },
  {
   "cell_type": "code",
   "execution_count": 333,
   "metadata": {},
   "outputs": [
    {
     "output_type": "stream",
     "name": "stdout",
     "text": [
      "  /          \n |           \n |     ___   \n |    / 1    \n |   /  -  dx\n | \\/   x    \n |           \n/            \n"
     ]
    }
   ],
   "source": [
    "x = symbols('x')\n",
    "pprint(Integral(sqrt(1/x),x), use_unicode=False)"
   ]
  },
  {
   "cell_type": "code",
   "execution_count": 334,
   "metadata": {},
   "outputs": [
    {
     "output_type": "execute_result",
     "data": {
      "text/plain": [
       "'  /          \\n |           \\n |     ___   \\n |    / 1    \\n |   /  -  dx\\n | \\\\/   x    \\n |           \\n/            '"
      ]
     },
     "metadata": {},
     "execution_count": 334
    }
   ],
   "source": [
    "pretty(Integral(sqrt(1/x),x), use_unicode=False)"
   ]
  },
  {
   "cell_type": "code",
   "execution_count": 335,
   "metadata": {},
   "outputs": [
    {
     "output_type": "stream",
     "name": "stdout",
     "text": [
      "  /          \n |           \n |     ___   \n |    / 1    \n |   /  -  dx\n | \\/   x    \n |           \n/            \n"
     ]
    }
   ],
   "source": [
    "print(pretty(Integral(sqrt(1/x),x), use_unicode=False))"
   ]
  },
  {
   "cell_type": "code",
   "execution_count": 336,
   "metadata": {},
   "outputs": [
    {
     "output_type": "stream",
     "name": "stdout",
     "text": [
      "⌠           \n⎮     ___   \n⎮    ╱ 1    \n⎮   ╱  ─  dx\n⎮ ╲╱   x    \n⌡           \n"
     ]
    }
   ],
   "source": [
    "pprint(Integral(sqrt(1/x),x), use_unicode=True)"
   ]
  },
  {
   "cell_type": "code",
   "execution_count": 337,
   "metadata": {},
   "outputs": [
    {
     "output_type": "stream",
     "name": "stdout",
     "text": [
      "\\int \\sqrt{\\frac{1}{x}}\\, dx\n"
     ]
    }
   ],
   "source": [
    "print(latex(Integral(sqrt(1/x),x)))"
   ]
  },
  {
   "cell_type": "code",
   "execution_count": 339,
   "metadata": {},
   "outputs": [
    {
     "output_type": "stream",
     "name": "stdout",
     "text": [
      "<apply>\n\t<int/>\n\t<bvar>\n\t\t<ci>x</ci>\n\t</bvar>\n\t<apply>\n\t\t<root/>\n\t\t<apply>\n\t\t\t<power/>\n\t\t\t<ci>x</ci>\n\t\t\t<cn>-1</cn>\n\t\t</apply>\n\t</apply>\n</apply>\n\n"
     ]
    }
   ],
   "source": [
    "from sympy.printing.mathml import print_mathml\n",
    "print_mathml(Integral(sqrt(1/x),x))"
   ]
  },
  {
   "cell_type": "code",
   "execution_count": 340,
   "metadata": {},
   "outputs": [
    {
     "output_type": "stream",
     "name": "stdout",
     "text": [
      "digraph{\n\n# Graph style\n\"ordering\"=\"out\"\n\"rankdir\"=\"TD\"\n\n#########\n# Nodes #\n#########\n\n\"Add(Integer(2), Symbol('x'))_()\" [\"color\"=\"black\", \"label\"=\"Add\", \"shape\"=\"ellipse\"];\n\"Integer(2)_(0,)\" [\"color\"=\"black\", \"label\"=\"2\", \"shape\"=\"ellipse\"];\n\"Symbol('x')_(1,)\" [\"color\"=\"black\", \"label\"=\"x\", \"shape\"=\"ellipse\"];\n\n#########\n# Edges #\n#########\n\n\"Add(Integer(2), Symbol('x'))_()\" -> \"Integer(2)_(0,)\";\n\"Add(Integer(2), Symbol('x'))_()\" -> \"Symbol('x')_(1,)\";\n}\n"
     ]
    }
   ],
   "source": [
    "from sympy.printing.dot import dotprint\n",
    "from sympy.abc import x\n",
    "print(dotprint(x+2))"
   ]
  },
  {
   "cell_type": "code",
   "execution_count": 341,
   "metadata": {},
   "outputs": [],
   "source": [
    "#simplification\n",
    "from sympy import *\n",
    "x,y,z = symbols('x y z')\n",
    "init_printing(use_unicode=True)"
   ]
  },
  {
   "cell_type": "code",
   "execution_count": 342,
   "metadata": {},
   "outputs": [
    {
     "output_type": "execute_result",
     "data": {
      "text/plain": [
       "1"
      ],
      "image/png": "[encoded data removed]",
      "text/latex": "$\\displaystyle 1$"
     },
     "metadata": {},
     "execution_count": 342
    }
   ],
   "source": [
    "simplify(sin(x)**2 + cos(x) **2)"
   ]
  },
  {
   "cell_type": "code",
   "execution_count": 343,
   "metadata": {},
   "outputs": [
    {
     "output_type": "execute_result",
     "data": {
      "text/plain": [
       "-1 + x"
      ],
      "image/png": "[encoded data removed]",
      "text/latex": "$\\displaystyle -1 + x$"
     },
     "metadata": {},
     "execution_count": 343
    }
   ],
   "source": [
    "simplify((x**3 + x**2 - x -1)/(x**2 + 2*x +1))"
   ]
  },
  {
   "cell_type": "code",
   "execution_count": 344,
   "metadata": {},
   "outputs": [
    {
     "output_type": "execute_result",
     "data": {
      "text/plain": [
       "(-2 + x)⋅(-1 + x)"
      ],
      "image/png": "[encoded data removed]",
      "text/latex": "$\\displaystyle \\left(-2 + x\\right) \\left(-1 + x\\right)$"
     },
     "metadata": {},
     "execution_count": 344
    }
   ],
   "source": [
    "simplify(gamma(x)/gamma(x-2))"
   ]
  },
  {
   "cell_type": "code",
   "execution_count": 345,
   "metadata": {},
   "outputs": [
    {
     "output_type": "execute_result",
     "data": {
      "text/plain": [
       "           2\n",
       "1 + 2⋅x + x "
      ],
      "image/png": "[encoded data removed]",
      "text/latex": "$\\displaystyle 1 + 2 x + x^{2}$"
     },
     "metadata": {},
     "execution_count": 345
    }
   ],
   "source": [
    "expand((x+1)**2)"
   ]
  },
  {
   "cell_type": "code",
   "execution_count": 346,
   "metadata": {},
   "outputs": [
    {
     "output_type": "execute_result",
     "data": {
      "text/plain": [
       "          2\n",
       "-6 - x + x "
      ],
      "image/png": "[encoded data removed]",
      "text/latex": "$\\displaystyle -6 - x + x^{2}$"
     },
     "metadata": {},
     "execution_count": 346
    }
   ],
   "source": [
    "expand((x+2)*(x-3))"
   ]
  },
  {
   "cell_type": "code",
   "execution_count": 347,
   "metadata": {},
   "outputs": [
    {
     "output_type": "execute_result",
     "data": {
      "text/plain": [
       "-2"
      ],
      "image/png": "[encoded data removed]",
      "text/latex": "$\\displaystyle -2$"
     },
     "metadata": {},
     "execution_count": 347
    }
   ],
   "source": [
    "expand((x+1)*(x-2)-(x-1)*x)"
   ]
  },
  {
   "cell_type": "code",
   "execution_count": 348,
   "metadata": {},
   "outputs": [
    {
     "output_type": "execute_result",
     "data": {
      "text/plain": [
       "         ⎛     2⎞\n",
       "(-1 + x)⋅⎝1 + x ⎠"
      ],
      "image/png": "[encoded data removed]",
      "text/latex": "$\\displaystyle \\left(-1 + x\\right) \\left(1 + x^{2}\\right)$"
     },
     "metadata": {},
     "execution_count": 348
    }
   ],
   "source": [
    "factor(x**3 - x**2 + x -1)"
   ]
  },
  {
   "cell_type": "code",
   "execution_count": 352,
   "metadata": {},
   "outputs": [
    {
     "output_type": "execute_result",
     "data": {
      "text/plain": [
       "           2\n",
       "z⋅(2⋅y + x) "
      ],
      "image/png": "[encoded data removed]",
      "text/latex": "$\\displaystyle z \\left(2 y + x\\right)^{2}$"
     },
     "metadata": {},
     "execution_count": 352
    }
   ],
   "source": [
    "factor(x**2*z + 4*x*y*z + 4*y**2*z)"
   ]
  },
  {
   "cell_type": "code",
   "execution_count": 353,
   "metadata": {},
   "outputs": [
    {
     "output_type": "execute_result",
     "data": {
      "text/plain": [
       "(1, [(z, 1), (2⋅y + x, 2)])"
      ],
      "image/png": "[encoded data removed]",
      "text/latex": "$\\displaystyle \\left( 1, \\  \\left[ \\left( z, \\  1\\right), \\  \\left( 2 y + x, \\  2\\right)\\right]\\right)$"
     },
     "metadata": {},
     "execution_count": 353
    }
   ],
   "source": [
    "factor_list(x**2*z + 4*x*y*z + 4*y**2*z)"
   ]
  },
  {
   "cell_type": "code",
   "execution_count": 354,
   "metadata": {},
   "outputs": [
    {
     "output_type": "execute_result",
     "data": {
      "text/plain": [
       "   2                           2   \n",
       "cos (x) + 2⋅sin(x)⋅cos(x) + sin (x)"
      ],
      "image/png": "[encoded data removed]",
      "text/latex": "$\\displaystyle \\cos^{2}{\\left(x \\right)} + 2 \\sin{\\left(x \\right)} \\cos{\\left(x \\right)} + \\sin^{2}{\\left(x \\right)}$"
     },
     "metadata": {},
     "execution_count": 354
    }
   ],
   "source": [
    "expand((cos(x) + sin(x))**2)"
   ]
  },
  {
   "cell_type": "code",
   "execution_count": 356,
   "metadata": {},
   "outputs": [
    {
     "output_type": "execute_result",
     "data": {
      "text/plain": [
       "                 2\n",
       "(cos(x) + sin(x)) "
      ],
      "image/png": "[encoded data removed]",
      "text/latex": "$\\displaystyle \\left(\\cos{\\left(x \\right)} + \\sin{\\left(x \\right)}\\right)^{2}$"
     },
     "metadata": {},
     "execution_count": 356
    }
   ],
   "source": [
    "factor(cos(x)**2 + 2*cos(x)*sin(x) + sin(x)**2)"
   ]
  },
  {
   "cell_type": "code",
   "execution_count": 359,
   "metadata": {},
   "outputs": [
    {
     "output_type": "execute_result",
     "data": {
      "text/plain": [
       "                  2    2      3\n",
       "-3 + x + x⋅y + 2⋅x  - x ⋅z + x "
      ],
      "image/png": "[encoded data removed]",
      "text/latex": "$\\displaystyle -3 + x + x y + 2 x^{2} - x^{2} z + x^{3}$"
     },
     "metadata": {},
     "execution_count": 359
    }
   ],
   "source": [
    "expr = x*y + x -3 + 2*x**2 - z*x**2 + x**3\n",
    "expr"
   ]
  },
  {
   "cell_type": "code",
   "execution_count": 362,
   "metadata": {},
   "outputs": [],
   "source": [
    "collected_expr = collect(expr,x)"
   ]
  },
  {
   "cell_type": "code",
   "execution_count": 365,
   "metadata": {},
   "outputs": [
    {
     "output_type": "stream",
     "name": "stdout",
     "text": [
      "<class 'sympy.core.add.Add'>\n"
     ]
    }
   ],
   "source": [
    "print(type(collected_expr))"
   ]
  },
  {
   "cell_type": "code",
   "execution_count": null,
   "metadata": {},
   "outputs": [],
   "source": []
  },
  {
   "cell_type": "code",
   "execution_count": null,
   "metadata": {},
   "outputs": [],
   "source": []
  },
  {
   "cell_type": "code",
   "execution_count": null,
   "metadata": {},
   "outputs": [],
   "source": []
  }
 ]
}